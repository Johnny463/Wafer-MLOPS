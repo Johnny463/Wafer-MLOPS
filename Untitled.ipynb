{
 "cells": [
  {
   "cell_type": "code",
   "execution_count": 1,
   "id": "37c349c6",
   "metadata": {},
   "outputs": [],
   "source": [
    "import pandas as pd\n",
    "import xgboost\n",
    "from sklearn.ensemble import RandomForestClassifier\n",
    "from sklearn.model_selection import train_test_split\n",
    "from collections import Counter"
   ]
  },
  {
   "cell_type": "code",
   "execution_count": 2,
   "id": "5bc4aca4",
   "metadata": {},
   "outputs": [],
   "source": [
    "x=pd.read_csv('independent_features_0.csv')\n",
    "y=pd.read_csv('dependent_feature_0.csv')\n",
    "x=x.drop(['Unnamed: 0'],axis=1)\n",
    "y=y.drop(['Unnamed: 0'],axis=1)"
   ]
  },
  {
   "cell_type": "code",
   "execution_count": 3,
   "id": "eff5fdac",
   "metadata": {},
   "outputs": [
    {
     "data": {
      "text/html": [
       "<div>\n",
       "<style scoped>\n",
       "    .dataframe tbody tr th:only-of-type {\n",
       "        vertical-align: middle;\n",
       "    }\n",
       "\n",
       "    .dataframe tbody tr th {\n",
       "        vertical-align: top;\n",
       "    }\n",
       "\n",
       "    .dataframe thead th {\n",
       "        text-align: right;\n",
       "    }\n",
       "</style>\n",
       "<table border=\"1\" class=\"dataframe\">\n",
       "  <thead>\n",
       "    <tr style=\"text-align: right;\">\n",
       "      <th></th>\n",
       "      <th>Sensor - 1</th>\n",
       "      <th>Sensor - 2</th>\n",
       "      <th>Sensor - 3</th>\n",
       "      <th>Sensor - 4</th>\n",
       "      <th>Sensor - 5</th>\n",
       "      <th>Sensor - 7</th>\n",
       "      <th>Sensor - 8</th>\n",
       "      <th>Sensor - 9</th>\n",
       "      <th>Sensor - 10</th>\n",
       "      <th>Sensor - 11</th>\n",
       "      <th>...</th>\n",
       "      <th>Sensor - 581</th>\n",
       "      <th>Sensor - 582</th>\n",
       "      <th>Sensor - 583</th>\n",
       "      <th>Sensor - 584</th>\n",
       "      <th>Sensor - 585</th>\n",
       "      <th>Sensor - 586</th>\n",
       "      <th>Sensor - 587</th>\n",
       "      <th>Sensor - 588</th>\n",
       "      <th>Sensor - 589</th>\n",
       "      <th>Sensor - 590</th>\n",
       "    </tr>\n",
       "  </thead>\n",
       "  <tbody>\n",
       "    <tr>\n",
       "      <th>0</th>\n",
       "      <td>3045.98</td>\n",
       "      <td>2544.85</td>\n",
       "      <td>2253.3444</td>\n",
       "      <td>1873.8678</td>\n",
       "      <td>1.1691</td>\n",
       "      <td>94.9722</td>\n",
       "      <td>0.1210</td>\n",
       "      <td>1.4752</td>\n",
       "      <td>0.0084</td>\n",
       "      <td>0.0009</td>\n",
       "      <td>...</td>\n",
       "      <td>0.004233</td>\n",
       "      <td>47.958333</td>\n",
       "      <td>0.4948</td>\n",
       "      <td>0.0123</td>\n",
       "      <td>0.0033</td>\n",
       "      <td>2.4804</td>\n",
       "      <td>0.0291</td>\n",
       "      <td>0.0102</td>\n",
       "      <td>0.0033</td>\n",
       "      <td>35.0279</td>\n",
       "    </tr>\n",
       "    <tr>\n",
       "      <th>1</th>\n",
       "      <td>3071.18</td>\n",
       "      <td>2489.86</td>\n",
       "      <td>2195.3000</td>\n",
       "      <td>1151.8233</td>\n",
       "      <td>0.9220</td>\n",
       "      <td>103.5467</td>\n",
       "      <td>0.1232</td>\n",
       "      <td>1.4826</td>\n",
       "      <td>0.0136</td>\n",
       "      <td>0.0009</td>\n",
       "      <td>...</td>\n",
       "      <td>0.004733</td>\n",
       "      <td>83.487367</td>\n",
       "      <td>0.5033</td>\n",
       "      <td>0.0112</td>\n",
       "      <td>0.0029</td>\n",
       "      <td>2.2320</td>\n",
       "      <td>0.0291</td>\n",
       "      <td>0.0102</td>\n",
       "      <td>0.0033</td>\n",
       "      <td>35.0279</td>\n",
       "    </tr>\n",
       "    <tr>\n",
       "      <th>2</th>\n",
       "      <td>2958.46</td>\n",
       "      <td>2523.78</td>\n",
       "      <td>2171.8556</td>\n",
       "      <td>1156.6018</td>\n",
       "      <td>1.4025</td>\n",
       "      <td>100.1367</td>\n",
       "      <td>0.1243</td>\n",
       "      <td>1.4645</td>\n",
       "      <td>0.0001</td>\n",
       "      <td>0.0067</td>\n",
       "      <td>...</td>\n",
       "      <td>0.003967</td>\n",
       "      <td>38.998500</td>\n",
       "      <td>0.4954</td>\n",
       "      <td>0.0136</td>\n",
       "      <td>0.0033</td>\n",
       "      <td>2.7511</td>\n",
       "      <td>0.0291</td>\n",
       "      <td>0.0102</td>\n",
       "      <td>0.0033</td>\n",
       "      <td>35.0279</td>\n",
       "    </tr>\n",
       "    <tr>\n",
       "      <th>3</th>\n",
       "      <td>3196.21</td>\n",
       "      <td>2413.39</td>\n",
       "      <td>2255.5222</td>\n",
       "      <td>1763.0739</td>\n",
       "      <td>1.2226</td>\n",
       "      <td>101.5878</td>\n",
       "      <td>0.1200</td>\n",
       "      <td>1.4845</td>\n",
       "      <td>-0.0037</td>\n",
       "      <td>0.0049</td>\n",
       "      <td>...</td>\n",
       "      <td>0.005700</td>\n",
       "      <td>353.831900</td>\n",
       "      <td>0.5058</td>\n",
       "      <td>0.0094</td>\n",
       "      <td>0.0026</td>\n",
       "      <td>1.8673</td>\n",
       "      <td>0.0053</td>\n",
       "      <td>0.0188</td>\n",
       "      <td>0.0057</td>\n",
       "      <td>353.8319</td>\n",
       "    </tr>\n",
       "    <tr>\n",
       "      <th>4</th>\n",
       "      <td>3005.64</td>\n",
       "      <td>2522.40</td>\n",
       "      <td>2173.4889</td>\n",
       "      <td>1145.7970</td>\n",
       "      <td>0.9402</td>\n",
       "      <td>104.0556</td>\n",
       "      <td>0.1247</td>\n",
       "      <td>1.4441</td>\n",
       "      <td>-0.0021</td>\n",
       "      <td>0.0095</td>\n",
       "      <td>...</td>\n",
       "      <td>0.010100</td>\n",
       "      <td>65.768900</td>\n",
       "      <td>0.5011</td>\n",
       "      <td>0.0133</td>\n",
       "      <td>0.0035</td>\n",
       "      <td>2.6562</td>\n",
       "      <td>0.0430</td>\n",
       "      <td>0.0283</td>\n",
       "      <td>0.0101</td>\n",
       "      <td>65.7689</td>\n",
       "    </tr>\n",
       "  </tbody>\n",
       "</table>\n",
       "<p>5 rows × 474 columns</p>\n",
       "</div>"
      ],
      "text/plain": [
       "   Sensor - 1  Sensor - 2  Sensor - 3  Sensor - 4  Sensor - 5  Sensor - 7  \\\n",
       "0     3045.98     2544.85   2253.3444   1873.8678      1.1691     94.9722   \n",
       "1     3071.18     2489.86   2195.3000   1151.8233      0.9220    103.5467   \n",
       "2     2958.46     2523.78   2171.8556   1156.6018      1.4025    100.1367   \n",
       "3     3196.21     2413.39   2255.5222   1763.0739      1.2226    101.5878   \n",
       "4     3005.64     2522.40   2173.4889   1145.7970      0.9402    104.0556   \n",
       "\n",
       "   Sensor - 8  Sensor - 9  Sensor - 10  Sensor - 11  ...  Sensor - 581  \\\n",
       "0      0.1210      1.4752       0.0084       0.0009  ...      0.004233   \n",
       "1      0.1232      1.4826       0.0136       0.0009  ...      0.004733   \n",
       "2      0.1243      1.4645       0.0001       0.0067  ...      0.003967   \n",
       "3      0.1200      1.4845      -0.0037       0.0049  ...      0.005700   \n",
       "4      0.1247      1.4441      -0.0021       0.0095  ...      0.010100   \n",
       "\n",
       "   Sensor - 582  Sensor - 583  Sensor - 584  Sensor - 585  Sensor - 586  \\\n",
       "0     47.958333        0.4948        0.0123        0.0033        2.4804   \n",
       "1     83.487367        0.5033        0.0112        0.0029        2.2320   \n",
       "2     38.998500        0.4954        0.0136        0.0033        2.7511   \n",
       "3    353.831900        0.5058        0.0094        0.0026        1.8673   \n",
       "4     65.768900        0.5011        0.0133        0.0035        2.6562   \n",
       "\n",
       "   Sensor - 587  Sensor - 588  Sensor - 589  Sensor - 590  \n",
       "0        0.0291        0.0102        0.0033       35.0279  \n",
       "1        0.0291        0.0102        0.0033       35.0279  \n",
       "2        0.0291        0.0102        0.0033       35.0279  \n",
       "3        0.0053        0.0188        0.0057      353.8319  \n",
       "4        0.0430        0.0283        0.0101       65.7689  \n",
       "\n",
       "[5 rows x 474 columns]"
      ]
     },
     "execution_count": 3,
     "metadata": {},
     "output_type": "execute_result"
    }
   ],
   "source": [
    "x.head()"
   ]
  },
  {
   "cell_type": "code",
   "execution_count": 4,
   "id": "992ac8cd",
   "metadata": {},
   "outputs": [],
   "source": [
    "x_train,x_test,y_train,y_test=train_test_split(x,y,test_size=1/3,random_state=786)"
   ]
  },
  {
   "cell_type": "code",
   "execution_count": 5,
   "id": "4db2f23a",
   "metadata": {},
   "outputs": [
    {
     "data": {
      "text/plain": [
       "-1    347\n",
       " 1     13\n",
       "Name: target, dtype: int64"
      ]
     },
     "execution_count": 5,
     "metadata": {},
     "output_type": "execute_result"
    }
   ],
   "source": [
    "y_train['target'].value_counts()"
   ]
  },
  {
   "cell_type": "code",
   "execution_count": 36,
   "id": "7fbb0d28",
   "metadata": {},
   "outputs": [
    {
     "data": {
      "text/plain": [
       "Counter({'target': 1})"
      ]
     },
     "execution_count": 36,
     "metadata": {},
     "output_type": "execute_result"
    }
   ],
   "source": [
    "Counter(y_train)"
   ]
  },
  {
   "cell_type": "code",
   "execution_count": 7,
   "id": "470113ee",
   "metadata": {},
   "outputs": [
    {
     "data": {
      "text/plain": [
       "-1    173\n",
       " 1      8\n",
       "Name: target, dtype: int64"
      ]
     },
     "execution_count": 7,
     "metadata": {},
     "output_type": "execute_result"
    }
   ],
   "source": [
    "y_test['target'].value_counts()"
   ]
  },
  {
   "cell_type": "code",
   "execution_count": 188,
   "id": "2f5ec09c",
   "metadata": {},
   "outputs": [],
   "source": [
    "from imblearn.over_sampling import RandomOverSampler\n",
    "from imblearn.combine import SMOTETomek"
   ]
  },
  {
   "cell_type": "code",
   "execution_count": 189,
   "id": "9d544871",
   "metadata": {},
   "outputs": [
    {
     "name": "stdout",
     "output_type": "stream",
     "text": [
      "The number of classes before fit Counter({'target': 1})\n",
      "The number of classes after fit Counter({'target': 1})\n"
     ]
    }
   ],
   "source": [
    "ros=RandomOverSampler()\n",
    "X_train_ns,y_train_ns=ros.fit_resample(x_train,y_train)\n",
    "\n",
    "print(\"The number of classes before fit {}\".format(Counter(y_train)))\n",
    "print(\"The number of classes after fit {}\".format(Counter(y_train_ns)))"
   ]
  },
  {
   "cell_type": "code",
   "execution_count": 164,
   "id": "9f4ea8d0",
   "metadata": {},
   "outputs": [
    {
     "name": "stdout",
     "output_type": "stream",
     "text": [
      "The number of classes before fit Counter({'target': 1})\n",
      "The number of classes after fit Counter({'target': 1})\n"
     ]
    }
   ],
   "source": [
    "ros=SMOTETomek()\n",
    "X_train_ns,y_train_ns=ros.fit_resample(x_train,y_train)\n",
    "\n",
    "print(\"The number of classes before fit {}\".format(Counter(y_train)))\n",
    "print(\"The number of classes after fit {}\".format(Counter(y_train_ns)))"
   ]
  },
  {
   "cell_type": "code",
   "execution_count": 165,
   "id": "68a16ae9",
   "metadata": {},
   "outputs": [],
   "source": [
    "# from imblearn.under_sampling import NearMiss\n",
    "# ros=NearMiss()\n",
    "# X_train_ns,y_train_ns=ros.fit_resample(x_train,y_train)\n",
    "\n",
    "# print(\"The number of classes before fit {}\".format(Counter(y_train)))\n",
    "# print(\"The number of classes after fit {}\".format(Counter(y_train_ns)))"
   ]
  },
  {
   "cell_type": "code",
   "execution_count": 190,
   "id": "4dc919aa",
   "metadata": {},
   "outputs": [
    {
     "data": {
      "text/html": [
       "<div>\n",
       "<style scoped>\n",
       "    .dataframe tbody tr th:only-of-type {\n",
       "        vertical-align: middle;\n",
       "    }\n",
       "\n",
       "    .dataframe tbody tr th {\n",
       "        vertical-align: top;\n",
       "    }\n",
       "\n",
       "    .dataframe thead th {\n",
       "        text-align: right;\n",
       "    }\n",
       "</style>\n",
       "<table border=\"1\" class=\"dataframe\">\n",
       "  <thead>\n",
       "    <tr style=\"text-align: right;\">\n",
       "      <th></th>\n",
       "      <th>Sensor - 1</th>\n",
       "      <th>Sensor - 2</th>\n",
       "      <th>Sensor - 3</th>\n",
       "      <th>Sensor - 4</th>\n",
       "      <th>Sensor - 5</th>\n",
       "      <th>Sensor - 7</th>\n",
       "      <th>Sensor - 8</th>\n",
       "      <th>Sensor - 9</th>\n",
       "      <th>Sensor - 10</th>\n",
       "      <th>Sensor - 11</th>\n",
       "      <th>...</th>\n",
       "      <th>Sensor - 581</th>\n",
       "      <th>Sensor - 582</th>\n",
       "      <th>Sensor - 583</th>\n",
       "      <th>Sensor - 584</th>\n",
       "      <th>Sensor - 585</th>\n",
       "      <th>Sensor - 586</th>\n",
       "      <th>Sensor - 587</th>\n",
       "      <th>Sensor - 588</th>\n",
       "      <th>Sensor - 589</th>\n",
       "      <th>Sensor - 590</th>\n",
       "    </tr>\n",
       "  </thead>\n",
       "  <tbody>\n",
       "    <tr>\n",
       "      <th>0</th>\n",
       "      <td>2959.86</td>\n",
       "      <td>2437.76</td>\n",
       "      <td>2192.7889</td>\n",
       "      <td>1268.5852</td>\n",
       "      <td>1.9935</td>\n",
       "      <td>104.5867</td>\n",
       "      <td>0.1268</td>\n",
       "      <td>1.4599</td>\n",
       "      <td>-0.0075</td>\n",
       "      <td>-0.0109</td>\n",
       "      <td>...</td>\n",
       "      <td>0.012000</td>\n",
       "      <td>207.295500</td>\n",
       "      <td>0.5000</td>\n",
       "      <td>0.0169</td>\n",
       "      <td>0.0034</td>\n",
       "      <td>3.3712</td>\n",
       "      <td>0.0168</td>\n",
       "      <td>0.0349</td>\n",
       "      <td>0.0120</td>\n",
       "      <td>207.2955</td>\n",
       "    </tr>\n",
       "    <tr>\n",
       "      <th>1</th>\n",
       "      <td>2939.93</td>\n",
       "      <td>2595.82</td>\n",
       "      <td>2204.5445</td>\n",
       "      <td>2076.6730</td>\n",
       "      <td>1.0961</td>\n",
       "      <td>95.9222</td>\n",
       "      <td>0.1251</td>\n",
       "      <td>1.3640</td>\n",
       "      <td>0.0035</td>\n",
       "      <td>0.0057</td>\n",
       "      <td>...</td>\n",
       "      <td>0.003833</td>\n",
       "      <td>111.208700</td>\n",
       "      <td>0.4939</td>\n",
       "      <td>0.0160</td>\n",
       "      <td>0.0038</td>\n",
       "      <td>3.2375</td>\n",
       "      <td>0.0269</td>\n",
       "      <td>0.0160</td>\n",
       "      <td>0.0043</td>\n",
       "      <td>59.2045</td>\n",
       "    </tr>\n",
       "    <tr>\n",
       "      <th>2</th>\n",
       "      <td>3007.47</td>\n",
       "      <td>2571.18</td>\n",
       "      <td>2187.4111</td>\n",
       "      <td>1942.3069</td>\n",
       "      <td>1.1864</td>\n",
       "      <td>88.0911</td>\n",
       "      <td>0.1245</td>\n",
       "      <td>1.3746</td>\n",
       "      <td>0.0012</td>\n",
       "      <td>0.0107</td>\n",
       "      <td>...</td>\n",
       "      <td>0.007067</td>\n",
       "      <td>109.678600</td>\n",
       "      <td>0.5010</td>\n",
       "      <td>0.0111</td>\n",
       "      <td>0.0030</td>\n",
       "      <td>2.2248</td>\n",
       "      <td>0.0262</td>\n",
       "      <td>0.0123</td>\n",
       "      <td>0.0033</td>\n",
       "      <td>46.7092</td>\n",
       "    </tr>\n",
       "    <tr>\n",
       "      <th>3</th>\n",
       "      <td>2982.62</td>\n",
       "      <td>2474.88</td>\n",
       "      <td>2114.6667</td>\n",
       "      <td>1549.4874</td>\n",
       "      <td>1.3393</td>\n",
       "      <td>98.7844</td>\n",
       "      <td>0.1262</td>\n",
       "      <td>1.3333</td>\n",
       "      <td>-0.0054</td>\n",
       "      <td>0.0045</td>\n",
       "      <td>...</td>\n",
       "      <td>0.003200</td>\n",
       "      <td>50.088800</td>\n",
       "      <td>0.4948</td>\n",
       "      <td>0.0142</td>\n",
       "      <td>0.0042</td>\n",
       "      <td>2.8661</td>\n",
       "      <td>0.0241</td>\n",
       "      <td>0.0121</td>\n",
       "      <td>0.0032</td>\n",
       "      <td>50.0888</td>\n",
       "    </tr>\n",
       "    <tr>\n",
       "      <th>4</th>\n",
       "      <td>3056.58</td>\n",
       "      <td>2505.62</td>\n",
       "      <td>2219.3445</td>\n",
       "      <td>1734.8435</td>\n",
       "      <td>0.9800</td>\n",
       "      <td>104.3867</td>\n",
       "      <td>0.1221</td>\n",
       "      <td>1.5343</td>\n",
       "      <td>-0.0013</td>\n",
       "      <td>0.0035</td>\n",
       "      <td>...</td>\n",
       "      <td>0.004133</td>\n",
       "      <td>82.539033</td>\n",
       "      <td>0.4958</td>\n",
       "      <td>0.0170</td>\n",
       "      <td>0.0042</td>\n",
       "      <td>3.4367</td>\n",
       "      <td>0.0419</td>\n",
       "      <td>0.0098</td>\n",
       "      <td>0.0032</td>\n",
       "      <td>23.3852</td>\n",
       "    </tr>\n",
       "    <tr>\n",
       "      <th>...</th>\n",
       "      <td>...</td>\n",
       "      <td>...</td>\n",
       "      <td>...</td>\n",
       "      <td>...</td>\n",
       "      <td>...</td>\n",
       "      <td>...</td>\n",
       "      <td>...</td>\n",
       "      <td>...</td>\n",
       "      <td>...</td>\n",
       "      <td>...</td>\n",
       "      <td>...</td>\n",
       "      <td>...</td>\n",
       "      <td>...</td>\n",
       "      <td>...</td>\n",
       "      <td>...</td>\n",
       "      <td>...</td>\n",
       "      <td>...</td>\n",
       "      <td>...</td>\n",
       "      <td>...</td>\n",
       "      <td>...</td>\n",
       "      <td>...</td>\n",
       "    </tr>\n",
       "    <tr>\n",
       "      <th>689</th>\n",
       "      <td>2982.87</td>\n",
       "      <td>2477.01</td>\n",
       "      <td>2315.2667</td>\n",
       "      <td>2360.1325</td>\n",
       "      <td>1.1259</td>\n",
       "      <td>90.1144</td>\n",
       "      <td>0.1160</td>\n",
       "      <td>1.4695</td>\n",
       "      <td>0.0071</td>\n",
       "      <td>0.0215</td>\n",
       "      <td>...</td>\n",
       "      <td>0.004133</td>\n",
       "      <td>62.119500</td>\n",
       "      <td>0.5003</td>\n",
       "      <td>0.0106</td>\n",
       "      <td>0.0028</td>\n",
       "      <td>2.1263</td>\n",
       "      <td>0.0153</td>\n",
       "      <td>0.0048</td>\n",
       "      <td>0.0017</td>\n",
       "      <td>31.0176</td>\n",
       "    </tr>\n",
       "    <tr>\n",
       "      <th>690</th>\n",
       "      <td>3188.42</td>\n",
       "      <td>2565.93</td>\n",
       "      <td>2208.9000</td>\n",
       "      <td>934.7558</td>\n",
       "      <td>1.9469</td>\n",
       "      <td>119.3544</td>\n",
       "      <td>0.1222</td>\n",
       "      <td>1.4984</td>\n",
       "      <td>0.0163</td>\n",
       "      <td>0.0191</td>\n",
       "      <td>...</td>\n",
       "      <td>0.003467</td>\n",
       "      <td>25.610733</td>\n",
       "      <td>0.5042</td>\n",
       "      <td>0.0099</td>\n",
       "      <td>0.0027</td>\n",
       "      <td>1.9599</td>\n",
       "      <td>0.0230</td>\n",
       "      <td>0.0210</td>\n",
       "      <td>0.0053</td>\n",
       "      <td>91.4264</td>\n",
       "    </tr>\n",
       "    <tr>\n",
       "      <th>691</th>\n",
       "      <td>3037.63</td>\n",
       "      <td>2524.13</td>\n",
       "      <td>2194.9555</td>\n",
       "      <td>1108.2246</td>\n",
       "      <td>1.2476</td>\n",
       "      <td>102.2822</td>\n",
       "      <td>0.1202</td>\n",
       "      <td>1.3969</td>\n",
       "      <td>-0.0074</td>\n",
       "      <td>-0.0152</td>\n",
       "      <td>...</td>\n",
       "      <td>0.005800</td>\n",
       "      <td>73.512000</td>\n",
       "      <td>0.5033</td>\n",
       "      <td>0.0268</td>\n",
       "      <td>0.0059</td>\n",
       "      <td>5.3287</td>\n",
       "      <td>0.0284</td>\n",
       "      <td>0.0209</td>\n",
       "      <td>0.0058</td>\n",
       "      <td>73.5120</td>\n",
       "    </tr>\n",
       "    <tr>\n",
       "      <th>692</th>\n",
       "      <td>2977.29</td>\n",
       "      <td>2471.50</td>\n",
       "      <td>2214.7889</td>\n",
       "      <td>1687.4606</td>\n",
       "      <td>2.2073</td>\n",
       "      <td>97.3378</td>\n",
       "      <td>0.1226</td>\n",
       "      <td>1.5071</td>\n",
       "      <td>0.0045</td>\n",
       "      <td>-0.0011</td>\n",
       "      <td>...</td>\n",
       "      <td>0.004800</td>\n",
       "      <td>79.406667</td>\n",
       "      <td>0.5080</td>\n",
       "      <td>0.0168</td>\n",
       "      <td>0.0039</td>\n",
       "      <td>3.3154</td>\n",
       "      <td>0.0134</td>\n",
       "      <td>0.0121</td>\n",
       "      <td>0.0035</td>\n",
       "      <td>90.4575</td>\n",
       "    </tr>\n",
       "    <tr>\n",
       "      <th>693</th>\n",
       "      <td>2896.84</td>\n",
       "      <td>2512.61</td>\n",
       "      <td>2190.1555</td>\n",
       "      <td>1298.8207</td>\n",
       "      <td>1.3947</td>\n",
       "      <td>105.7411</td>\n",
       "      <td>0.1242</td>\n",
       "      <td>1.4228</td>\n",
       "      <td>-0.0011</td>\n",
       "      <td>-0.0002</td>\n",
       "      <td>...</td>\n",
       "      <td>0.006533</td>\n",
       "      <td>219.919500</td>\n",
       "      <td>0.5022</td>\n",
       "      <td>0.0346</td>\n",
       "      <td>0.0073</td>\n",
       "      <td>6.8855</td>\n",
       "      <td>0.0406</td>\n",
       "      <td>0.0268</td>\n",
       "      <td>0.0091</td>\n",
       "      <td>66.1687</td>\n",
       "    </tr>\n",
       "  </tbody>\n",
       "</table>\n",
       "<p>694 rows × 474 columns</p>\n",
       "</div>"
      ],
      "text/plain": [
       "     Sensor - 1  Sensor - 2  Sensor - 3  Sensor - 4  Sensor - 5  Sensor - 7  \\\n",
       "0       2959.86     2437.76   2192.7889   1268.5852      1.9935    104.5867   \n",
       "1       2939.93     2595.82   2204.5445   2076.6730      1.0961     95.9222   \n",
       "2       3007.47     2571.18   2187.4111   1942.3069      1.1864     88.0911   \n",
       "3       2982.62     2474.88   2114.6667   1549.4874      1.3393     98.7844   \n",
       "4       3056.58     2505.62   2219.3445   1734.8435      0.9800    104.3867   \n",
       "..          ...         ...         ...         ...         ...         ...   \n",
       "689     2982.87     2477.01   2315.2667   2360.1325      1.1259     90.1144   \n",
       "690     3188.42     2565.93   2208.9000    934.7558      1.9469    119.3544   \n",
       "691     3037.63     2524.13   2194.9555   1108.2246      1.2476    102.2822   \n",
       "692     2977.29     2471.50   2214.7889   1687.4606      2.2073     97.3378   \n",
       "693     2896.84     2512.61   2190.1555   1298.8207      1.3947    105.7411   \n",
       "\n",
       "     Sensor - 8  Sensor - 9  Sensor - 10  Sensor - 11  ...  Sensor - 581  \\\n",
       "0        0.1268      1.4599      -0.0075      -0.0109  ...      0.012000   \n",
       "1        0.1251      1.3640       0.0035       0.0057  ...      0.003833   \n",
       "2        0.1245      1.3746       0.0012       0.0107  ...      0.007067   \n",
       "3        0.1262      1.3333      -0.0054       0.0045  ...      0.003200   \n",
       "4        0.1221      1.5343      -0.0013       0.0035  ...      0.004133   \n",
       "..          ...         ...          ...          ...  ...           ...   \n",
       "689      0.1160      1.4695       0.0071       0.0215  ...      0.004133   \n",
       "690      0.1222      1.4984       0.0163       0.0191  ...      0.003467   \n",
       "691      0.1202      1.3969      -0.0074      -0.0152  ...      0.005800   \n",
       "692      0.1226      1.5071       0.0045      -0.0011  ...      0.004800   \n",
       "693      0.1242      1.4228      -0.0011      -0.0002  ...      0.006533   \n",
       "\n",
       "     Sensor - 582  Sensor - 583  Sensor - 584  Sensor - 585  Sensor - 586  \\\n",
       "0      207.295500        0.5000        0.0169        0.0034        3.3712   \n",
       "1      111.208700        0.4939        0.0160        0.0038        3.2375   \n",
       "2      109.678600        0.5010        0.0111        0.0030        2.2248   \n",
       "3       50.088800        0.4948        0.0142        0.0042        2.8661   \n",
       "4       82.539033        0.4958        0.0170        0.0042        3.4367   \n",
       "..            ...           ...           ...           ...           ...   \n",
       "689     62.119500        0.5003        0.0106        0.0028        2.1263   \n",
       "690     25.610733        0.5042        0.0099        0.0027        1.9599   \n",
       "691     73.512000        0.5033        0.0268        0.0059        5.3287   \n",
       "692     79.406667        0.5080        0.0168        0.0039        3.3154   \n",
       "693    219.919500        0.5022        0.0346        0.0073        6.8855   \n",
       "\n",
       "     Sensor - 587  Sensor - 588  Sensor - 589  Sensor - 590  \n",
       "0          0.0168        0.0349        0.0120      207.2955  \n",
       "1          0.0269        0.0160        0.0043       59.2045  \n",
       "2          0.0262        0.0123        0.0033       46.7092  \n",
       "3          0.0241        0.0121        0.0032       50.0888  \n",
       "4          0.0419        0.0098        0.0032       23.3852  \n",
       "..            ...           ...           ...           ...  \n",
       "689        0.0153        0.0048        0.0017       31.0176  \n",
       "690        0.0230        0.0210        0.0053       91.4264  \n",
       "691        0.0284        0.0209        0.0058       73.5120  \n",
       "692        0.0134        0.0121        0.0035       90.4575  \n",
       "693        0.0406        0.0268        0.0091       66.1687  \n",
       "\n",
       "[694 rows x 474 columns]"
      ]
     },
     "execution_count": 190,
     "metadata": {},
     "output_type": "execute_result"
    }
   ],
   "source": [
    "X_train_ns"
   ]
  },
  {
   "cell_type": "code",
   "execution_count": 191,
   "id": "d012ef01",
   "metadata": {},
   "outputs": [
    {
     "data": {
      "text/plain": [
       " 1    347\n",
       "-1    347\n",
       "Name: target, dtype: int64"
      ]
     },
     "execution_count": 191,
     "metadata": {},
     "output_type": "execute_result"
    }
   ],
   "source": [
    "y_train_ns['target'].value_counts()"
   ]
  },
  {
   "cell_type": "code",
   "execution_count": 192,
   "id": "5793fd3e",
   "metadata": {},
   "outputs": [],
   "source": [
    "rs=RandomForestClassifier()"
   ]
  },
  {
   "cell_type": "code",
   "execution_count": 193,
   "id": "6ce124be",
   "metadata": {},
   "outputs": [
    {
     "name": "stderr",
     "output_type": "stream",
     "text": [
      "/home/vicky90/anaconda3/envs/wafer_with_mlops/lib/python3.6/site-packages/ipykernel_launcher.py:1: DataConversionWarning: A column-vector y was passed when a 1d array was expected. Please change the shape of y to (n_samples,), for example using ravel().\n",
      "  \"\"\"Entry point for launching an IPython kernel.\n"
     ]
    }
   ],
   "source": [
    "rs.fit(X_train_ns,y_train_ns)\n",
    "rs_pred=rs.predict(x_test)"
   ]
  },
  {
   "cell_type": "code",
   "execution_count": 194,
   "id": "9534e412",
   "metadata": {},
   "outputs": [
    {
     "data": {
      "text/plain": [
       "0.9558011049723757"
      ]
     },
     "execution_count": 194,
     "metadata": {},
     "output_type": "execute_result"
    }
   ],
   "source": [
    "from sklearn.metrics import accuracy_score,roc_auc_score, classification_report\n",
    "score_rs=accuracy_score(y_test,rs_pred)\n",
    "score_rs"
   ]
  },
  {
   "cell_type": "code",
   "execution_count": 195,
   "id": "2fc2777a",
   "metadata": {},
   "outputs": [
    {
     "data": {
      "text/plain": [
       "0.5"
      ]
     },
     "execution_count": 195,
     "metadata": {},
     "output_type": "execute_result"
    }
   ],
   "source": [
    "score_rs=roc_auc_score(y_test,rs_pred)\n",
    "score_rs"
   ]
  },
  {
   "cell_type": "code",
   "execution_count": 202,
   "id": "a8880c18",
   "metadata": {},
   "outputs": [],
   "source": [
    "from sklearn.model_selection import GridSearchCV"
   ]
  },
  {
   "cell_type": "code",
   "execution_count": 204,
   "id": "b43af534",
   "metadata": {},
   "outputs": [
    {
     "name": "stderr",
     "output_type": "stream",
     "text": [
      "/home/vicky90/anaconda3/envs/wafer_with_mlops/lib/python3.6/site-packages/sklearn/model_selection/_validation.py:593: DataConversionWarning: A column-vector y was passed when a 1d array was expected. Please change the shape of y to (n_samples,), for example using ravel().\n",
      "  estimator.fit(X_train, y_train, **fit_params)\n",
      "/home/vicky90/anaconda3/envs/wafer_with_mlops/lib/python3.6/site-packages/sklearn/model_selection/_validation.py:593: DataConversionWarning: A column-vector y was passed when a 1d array was expected. Please change the shape of y to (n_samples,), for example using ravel().\n",
      "  estimator.fit(X_train, y_train, **fit_params)\n",
      "/home/vicky90/anaconda3/envs/wafer_with_mlops/lib/python3.6/site-packages/sklearn/model_selection/_validation.py:593: DataConversionWarning: A column-vector y was passed when a 1d array was expected. Please change the shape of y to (n_samples,), for example using ravel().\n",
      "  estimator.fit(X_train, y_train, **fit_params)\n",
      "/home/vicky90/anaconda3/envs/wafer_with_mlops/lib/python3.6/site-packages/sklearn/model_selection/_validation.py:593: DataConversionWarning: A column-vector y was passed when a 1d array was expected. Please change the shape of y to (n_samples,), for example using ravel().\n",
      "  estimator.fit(X_train, y_train, **fit_params)\n",
      "/home/vicky90/anaconda3/envs/wafer_with_mlops/lib/python3.6/site-packages/sklearn/model_selection/_validation.py:593: DataConversionWarning: A column-vector y was passed when a 1d array was expected. Please change the shape of y to (n_samples,), for example using ravel().\n",
      "  estimator.fit(X_train, y_train, **fit_params)\n",
      "/home/vicky90/anaconda3/envs/wafer_with_mlops/lib/python3.6/site-packages/sklearn/model_selection/_validation.py:593: DataConversionWarning: A column-vector y was passed when a 1d array was expected. Please change the shape of y to (n_samples,), for example using ravel().\n",
      "  estimator.fit(X_train, y_train, **fit_params)\n",
      "/home/vicky90/anaconda3/envs/wafer_with_mlops/lib/python3.6/site-packages/sklearn/model_selection/_validation.py:593: DataConversionWarning: A column-vector y was passed when a 1d array was expected. Please change the shape of y to (n_samples,), for example using ravel().\n",
      "  estimator.fit(X_train, y_train, **fit_params)\n",
      "/home/vicky90/anaconda3/envs/wafer_with_mlops/lib/python3.6/site-packages/sklearn/model_selection/_validation.py:593: DataConversionWarning: A column-vector y was passed when a 1d array was expected. Please change the shape of y to (n_samples,), for example using ravel().\n",
      "  estimator.fit(X_train, y_train, **fit_params)\n",
      "/home/vicky90/anaconda3/envs/wafer_with_mlops/lib/python3.6/site-packages/sklearn/model_selection/_validation.py:593: DataConversionWarning: A column-vector y was passed when a 1d array was expected. Please change the shape of y to (n_samples,), for example using ravel().\n",
      "  estimator.fit(X_train, y_train, **fit_params)\n",
      "/home/vicky90/anaconda3/envs/wafer_with_mlops/lib/python3.6/site-packages/sklearn/model_selection/_validation.py:593: DataConversionWarning: A column-vector y was passed when a 1d array was expected. Please change the shape of y to (n_samples,), for example using ravel().\n",
      "  estimator.fit(X_train, y_train, **fit_params)\n",
      "/home/vicky90/anaconda3/envs/wafer_with_mlops/lib/python3.6/site-packages/sklearn/model_selection/_validation.py:593: DataConversionWarning: A column-vector y was passed when a 1d array was expected. Please change the shape of y to (n_samples,), for example using ravel().\n",
      "  estimator.fit(X_train, y_train, **fit_params)\n",
      "/home/vicky90/anaconda3/envs/wafer_with_mlops/lib/python3.6/site-packages/sklearn/model_selection/_validation.py:593: DataConversionWarning: A column-vector y was passed when a 1d array was expected. Please change the shape of y to (n_samples,), for example using ravel().\n",
      "  estimator.fit(X_train, y_train, **fit_params)\n",
      "/home/vicky90/anaconda3/envs/wafer_with_mlops/lib/python3.6/site-packages/sklearn/model_selection/_validation.py:593: DataConversionWarning: A column-vector y was passed when a 1d array was expected. Please change the shape of y to (n_samples,), for example using ravel().\n",
      "  estimator.fit(X_train, y_train, **fit_params)\n",
      "/home/vicky90/anaconda3/envs/wafer_with_mlops/lib/python3.6/site-packages/sklearn/model_selection/_validation.py:593: DataConversionWarning: A column-vector y was passed when a 1d array was expected. Please change the shape of y to (n_samples,), for example using ravel().\n",
      "  estimator.fit(X_train, y_train, **fit_params)\n",
      "/home/vicky90/anaconda3/envs/wafer_with_mlops/lib/python3.6/site-packages/sklearn/model_selection/_validation.py:593: DataConversionWarning: A column-vector y was passed when a 1d array was expected. Please change the shape of y to (n_samples,), for example using ravel().\n",
      "  estimator.fit(X_train, y_train, **fit_params)\n",
      "/home/vicky90/anaconda3/envs/wafer_with_mlops/lib/python3.6/site-packages/sklearn/model_selection/_validation.py:593: DataConversionWarning: A column-vector y was passed when a 1d array was expected. Please change the shape of y to (n_samples,), for example using ravel().\n",
      "  estimator.fit(X_train, y_train, **fit_params)\n",
      "/home/vicky90/anaconda3/envs/wafer_with_mlops/lib/python3.6/site-packages/sklearn/model_selection/_validation.py:593: DataConversionWarning: A column-vector y was passed when a 1d array was expected. Please change the shape of y to (n_samples,), for example using ravel().\n",
      "  estimator.fit(X_train, y_train, **fit_params)\n",
      "/home/vicky90/anaconda3/envs/wafer_with_mlops/lib/python3.6/site-packages/sklearn/model_selection/_validation.py:593: DataConversionWarning: A column-vector y was passed when a 1d array was expected. Please change the shape of y to (n_samples,), for example using ravel().\n",
      "  estimator.fit(X_train, y_train, **fit_params)\n",
      "/home/vicky90/anaconda3/envs/wafer_with_mlops/lib/python3.6/site-packages/sklearn/model_selection/_validation.py:593: DataConversionWarning: A column-vector y was passed when a 1d array was expected. Please change the shape of y to (n_samples,), for example using ravel().\n",
      "  estimator.fit(X_train, y_train, **fit_params)\n",
      "/home/vicky90/anaconda3/envs/wafer_with_mlops/lib/python3.6/site-packages/sklearn/model_selection/_validation.py:593: DataConversionWarning: A column-vector y was passed when a 1d array was expected. Please change the shape of y to (n_samples,), for example using ravel().\n",
      "  estimator.fit(X_train, y_train, **fit_params)\n",
      "/home/vicky90/anaconda3/envs/wafer_with_mlops/lib/python3.6/site-packages/sklearn/model_selection/_validation.py:593: DataConversionWarning: A column-vector y was passed when a 1d array was expected. Please change the shape of y to (n_samples,), for example using ravel().\n",
      "  estimator.fit(X_train, y_train, **fit_params)\n",
      "/home/vicky90/anaconda3/envs/wafer_with_mlops/lib/python3.6/site-packages/sklearn/model_selection/_validation.py:593: DataConversionWarning: A column-vector y was passed when a 1d array was expected. Please change the shape of y to (n_samples,), for example using ravel().\n",
      "  estimator.fit(X_train, y_train, **fit_params)\n",
      "/home/vicky90/anaconda3/envs/wafer_with_mlops/lib/python3.6/site-packages/sklearn/model_selection/_validation.py:593: DataConversionWarning: A column-vector y was passed when a 1d array was expected. Please change the shape of y to (n_samples,), for example using ravel().\n",
      "  estimator.fit(X_train, y_train, **fit_params)\n",
      "/home/vicky90/anaconda3/envs/wafer_with_mlops/lib/python3.6/site-packages/sklearn/model_selection/_validation.py:593: DataConversionWarning: A column-vector y was passed when a 1d array was expected. Please change the shape of y to (n_samples,), for example using ravel().\n",
      "  estimator.fit(X_train, y_train, **fit_params)\n",
      "/home/vicky90/anaconda3/envs/wafer_with_mlops/lib/python3.6/site-packages/sklearn/model_selection/_validation.py:593: DataConversionWarning: A column-vector y was passed when a 1d array was expected. Please change the shape of y to (n_samples,), for example using ravel().\n",
      "  estimator.fit(X_train, y_train, **fit_params)\n",
      "/home/vicky90/anaconda3/envs/wafer_with_mlops/lib/python3.6/site-packages/sklearn/model_selection/_validation.py:593: DataConversionWarning: A column-vector y was passed when a 1d array was expected. Please change the shape of y to (n_samples,), for example using ravel().\n",
      "  estimator.fit(X_train, y_train, **fit_params)\n"
     ]
    },
    {
     "name": "stderr",
     "output_type": "stream",
     "text": [
      "/home/vicky90/anaconda3/envs/wafer_with_mlops/lib/python3.6/site-packages/sklearn/model_selection/_validation.py:593: DataConversionWarning: A column-vector y was passed when a 1d array was expected. Please change the shape of y to (n_samples,), for example using ravel().\n",
      "  estimator.fit(X_train, y_train, **fit_params)\n",
      "/home/vicky90/anaconda3/envs/wafer_with_mlops/lib/python3.6/site-packages/sklearn/model_selection/_validation.py:593: DataConversionWarning: A column-vector y was passed when a 1d array was expected. Please change the shape of y to (n_samples,), for example using ravel().\n",
      "  estimator.fit(X_train, y_train, **fit_params)\n",
      "/home/vicky90/anaconda3/envs/wafer_with_mlops/lib/python3.6/site-packages/sklearn/model_selection/_validation.py:593: DataConversionWarning: A column-vector y was passed when a 1d array was expected. Please change the shape of y to (n_samples,), for example using ravel().\n",
      "  estimator.fit(X_train, y_train, **fit_params)\n",
      "/home/vicky90/anaconda3/envs/wafer_with_mlops/lib/python3.6/site-packages/sklearn/model_selection/_validation.py:593: DataConversionWarning: A column-vector y was passed when a 1d array was expected. Please change the shape of y to (n_samples,), for example using ravel().\n",
      "  estimator.fit(X_train, y_train, **fit_params)\n",
      "/home/vicky90/anaconda3/envs/wafer_with_mlops/lib/python3.6/site-packages/sklearn/model_selection/_validation.py:593: DataConversionWarning: A column-vector y was passed when a 1d array was expected. Please change the shape of y to (n_samples,), for example using ravel().\n",
      "  estimator.fit(X_train, y_train, **fit_params)\n",
      "/home/vicky90/anaconda3/envs/wafer_with_mlops/lib/python3.6/site-packages/sklearn/model_selection/_validation.py:593: DataConversionWarning: A column-vector y was passed when a 1d array was expected. Please change the shape of y to (n_samples,), for example using ravel().\n",
      "  estimator.fit(X_train, y_train, **fit_params)\n",
      "/home/vicky90/anaconda3/envs/wafer_with_mlops/lib/python3.6/site-packages/sklearn/model_selection/_validation.py:593: DataConversionWarning: A column-vector y was passed when a 1d array was expected. Please change the shape of y to (n_samples,), for example using ravel().\n",
      "  estimator.fit(X_train, y_train, **fit_params)\n",
      "/home/vicky90/anaconda3/envs/wafer_with_mlops/lib/python3.6/site-packages/sklearn/model_selection/_validation.py:593: DataConversionWarning: A column-vector y was passed when a 1d array was expected. Please change the shape of y to (n_samples,), for example using ravel().\n",
      "  estimator.fit(X_train, y_train, **fit_params)\n",
      "/home/vicky90/anaconda3/envs/wafer_with_mlops/lib/python3.6/site-packages/sklearn/model_selection/_validation.py:593: DataConversionWarning: A column-vector y was passed when a 1d array was expected. Please change the shape of y to (n_samples,), for example using ravel().\n",
      "  estimator.fit(X_train, y_train, **fit_params)\n",
      "/home/vicky90/anaconda3/envs/wafer_with_mlops/lib/python3.6/site-packages/sklearn/model_selection/_validation.py:593: DataConversionWarning: A column-vector y was passed when a 1d array was expected. Please change the shape of y to (n_samples,), for example using ravel().\n",
      "  estimator.fit(X_train, y_train, **fit_params)\n",
      "/home/vicky90/anaconda3/envs/wafer_with_mlops/lib/python3.6/site-packages/sklearn/model_selection/_validation.py:593: DataConversionWarning: A column-vector y was passed when a 1d array was expected. Please change the shape of y to (n_samples,), for example using ravel().\n",
      "  estimator.fit(X_train, y_train, **fit_params)\n",
      "/home/vicky90/anaconda3/envs/wafer_with_mlops/lib/python3.6/site-packages/sklearn/model_selection/_validation.py:593: DataConversionWarning: A column-vector y was passed when a 1d array was expected. Please change the shape of y to (n_samples,), for example using ravel().\n",
      "  estimator.fit(X_train, y_train, **fit_params)\n",
      "/home/vicky90/anaconda3/envs/wafer_with_mlops/lib/python3.6/site-packages/sklearn/model_selection/_validation.py:593: DataConversionWarning: A column-vector y was passed when a 1d array was expected. Please change the shape of y to (n_samples,), for example using ravel().\n",
      "  estimator.fit(X_train, y_train, **fit_params)\n",
      "/home/vicky90/anaconda3/envs/wafer_with_mlops/lib/python3.6/site-packages/sklearn/model_selection/_validation.py:593: DataConversionWarning: A column-vector y was passed when a 1d array was expected. Please change the shape of y to (n_samples,), for example using ravel().\n",
      "  estimator.fit(X_train, y_train, **fit_params)\n",
      "/home/vicky90/anaconda3/envs/wafer_with_mlops/lib/python3.6/site-packages/sklearn/model_selection/_validation.py:593: DataConversionWarning: A column-vector y was passed when a 1d array was expected. Please change the shape of y to (n_samples,), for example using ravel().\n",
      "  estimator.fit(X_train, y_train, **fit_params)\n",
      "/home/vicky90/anaconda3/envs/wafer_with_mlops/lib/python3.6/site-packages/sklearn/model_selection/_validation.py:593: DataConversionWarning: A column-vector y was passed when a 1d array was expected. Please change the shape of y to (n_samples,), for example using ravel().\n",
      "  estimator.fit(X_train, y_train, **fit_params)\n",
      "/home/vicky90/anaconda3/envs/wafer_with_mlops/lib/python3.6/site-packages/sklearn/model_selection/_validation.py:593: DataConversionWarning: A column-vector y was passed when a 1d array was expected. Please change the shape of y to (n_samples,), for example using ravel().\n",
      "  estimator.fit(X_train, y_train, **fit_params)\n",
      "/home/vicky90/anaconda3/envs/wafer_with_mlops/lib/python3.6/site-packages/sklearn/model_selection/_validation.py:593: DataConversionWarning: A column-vector y was passed when a 1d array was expected. Please change the shape of y to (n_samples,), for example using ravel().\n",
      "  estimator.fit(X_train, y_train, **fit_params)\n",
      "/home/vicky90/anaconda3/envs/wafer_with_mlops/lib/python3.6/site-packages/sklearn/model_selection/_validation.py:593: DataConversionWarning: A column-vector y was passed when a 1d array was expected. Please change the shape of y to (n_samples,), for example using ravel().\n",
      "  estimator.fit(X_train, y_train, **fit_params)\n",
      "/home/vicky90/anaconda3/envs/wafer_with_mlops/lib/python3.6/site-packages/sklearn/model_selection/_validation.py:593: DataConversionWarning: A column-vector y was passed when a 1d array was expected. Please change the shape of y to (n_samples,), for example using ravel().\n",
      "  estimator.fit(X_train, y_train, **fit_params)\n",
      "/home/vicky90/anaconda3/envs/wafer_with_mlops/lib/python3.6/site-packages/sklearn/model_selection/_validation.py:593: DataConversionWarning: A column-vector y was passed when a 1d array was expected. Please change the shape of y to (n_samples,), for example using ravel().\n",
      "  estimator.fit(X_train, y_train, **fit_params)\n",
      "/home/vicky90/anaconda3/envs/wafer_with_mlops/lib/python3.6/site-packages/sklearn/model_selection/_validation.py:593: DataConversionWarning: A column-vector y was passed when a 1d array was expected. Please change the shape of y to (n_samples,), for example using ravel().\n",
      "  estimator.fit(X_train, y_train, **fit_params)\n",
      "/home/vicky90/anaconda3/envs/wafer_with_mlops/lib/python3.6/site-packages/sklearn/model_selection/_validation.py:593: DataConversionWarning: A column-vector y was passed when a 1d array was expected. Please change the shape of y to (n_samples,), for example using ravel().\n",
      "  estimator.fit(X_train, y_train, **fit_params)\n",
      "/home/vicky90/anaconda3/envs/wafer_with_mlops/lib/python3.6/site-packages/sklearn/model_selection/_validation.py:593: DataConversionWarning: A column-vector y was passed when a 1d array was expected. Please change the shape of y to (n_samples,), for example using ravel().\n",
      "  estimator.fit(X_train, y_train, **fit_params)\n",
      "/home/vicky90/anaconda3/envs/wafer_with_mlops/lib/python3.6/site-packages/sklearn/model_selection/_validation.py:593: DataConversionWarning: A column-vector y was passed when a 1d array was expected. Please change the shape of y to (n_samples,), for example using ravel().\n",
      "  estimator.fit(X_train, y_train, **fit_params)\n",
      "/home/vicky90/anaconda3/envs/wafer_with_mlops/lib/python3.6/site-packages/sklearn/model_selection/_validation.py:593: DataConversionWarning: A column-vector y was passed when a 1d array was expected. Please change the shape of y to (n_samples,), for example using ravel().\n",
      "  estimator.fit(X_train, y_train, **fit_params)\n"
     ]
    },
    {
     "name": "stderr",
     "output_type": "stream",
     "text": [
      "/home/vicky90/anaconda3/envs/wafer_with_mlops/lib/python3.6/site-packages/sklearn/model_selection/_validation.py:593: DataConversionWarning: A column-vector y was passed when a 1d array was expected. Please change the shape of y to (n_samples,), for example using ravel().\n",
      "  estimator.fit(X_train, y_train, **fit_params)\n",
      "/home/vicky90/anaconda3/envs/wafer_with_mlops/lib/python3.6/site-packages/sklearn/model_selection/_validation.py:593: DataConversionWarning: A column-vector y was passed when a 1d array was expected. Please change the shape of y to (n_samples,), for example using ravel().\n",
      "  estimator.fit(X_train, y_train, **fit_params)\n",
      "/home/vicky90/anaconda3/envs/wafer_with_mlops/lib/python3.6/site-packages/sklearn/model_selection/_validation.py:593: DataConversionWarning: A column-vector y was passed when a 1d array was expected. Please change the shape of y to (n_samples,), for example using ravel().\n",
      "  estimator.fit(X_train, y_train, **fit_params)\n",
      "/home/vicky90/anaconda3/envs/wafer_with_mlops/lib/python3.6/site-packages/sklearn/model_selection/_validation.py:593: DataConversionWarning: A column-vector y was passed when a 1d array was expected. Please change the shape of y to (n_samples,), for example using ravel().\n",
      "  estimator.fit(X_train, y_train, **fit_params)\n",
      "/home/vicky90/anaconda3/envs/wafer_with_mlops/lib/python3.6/site-packages/sklearn/model_selection/_validation.py:593: DataConversionWarning: A column-vector y was passed when a 1d array was expected. Please change the shape of y to (n_samples,), for example using ravel().\n",
      "  estimator.fit(X_train, y_train, **fit_params)\n",
      "/home/vicky90/anaconda3/envs/wafer_with_mlops/lib/python3.6/site-packages/sklearn/model_selection/_validation.py:593: DataConversionWarning: A column-vector y was passed when a 1d array was expected. Please change the shape of y to (n_samples,), for example using ravel().\n",
      "  estimator.fit(X_train, y_train, **fit_params)\n",
      "/home/vicky90/anaconda3/envs/wafer_with_mlops/lib/python3.6/site-packages/sklearn/model_selection/_validation.py:593: DataConversionWarning: A column-vector y was passed when a 1d array was expected. Please change the shape of y to (n_samples,), for example using ravel().\n",
      "  estimator.fit(X_train, y_train, **fit_params)\n",
      "/home/vicky90/anaconda3/envs/wafer_with_mlops/lib/python3.6/site-packages/sklearn/model_selection/_validation.py:593: DataConversionWarning: A column-vector y was passed when a 1d array was expected. Please change the shape of y to (n_samples,), for example using ravel().\n",
      "  estimator.fit(X_train, y_train, **fit_params)\n",
      "/home/vicky90/anaconda3/envs/wafer_with_mlops/lib/python3.6/site-packages/sklearn/model_selection/_validation.py:593: DataConversionWarning: A column-vector y was passed when a 1d array was expected. Please change the shape of y to (n_samples,), for example using ravel().\n",
      "  estimator.fit(X_train, y_train, **fit_params)\n",
      "/home/vicky90/anaconda3/envs/wafer_with_mlops/lib/python3.6/site-packages/sklearn/model_selection/_validation.py:593: DataConversionWarning: A column-vector y was passed when a 1d array was expected. Please change the shape of y to (n_samples,), for example using ravel().\n",
      "  estimator.fit(X_train, y_train, **fit_params)\n",
      "/home/vicky90/anaconda3/envs/wafer_with_mlops/lib/python3.6/site-packages/sklearn/model_selection/_validation.py:593: DataConversionWarning: A column-vector y was passed when a 1d array was expected. Please change the shape of y to (n_samples,), for example using ravel().\n",
      "  estimator.fit(X_train, y_train, **fit_params)\n",
      "/home/vicky90/anaconda3/envs/wafer_with_mlops/lib/python3.6/site-packages/sklearn/model_selection/_validation.py:593: DataConversionWarning: A column-vector y was passed when a 1d array was expected. Please change the shape of y to (n_samples,), for example using ravel().\n",
      "  estimator.fit(X_train, y_train, **fit_params)\n",
      "/home/vicky90/anaconda3/envs/wafer_with_mlops/lib/python3.6/site-packages/sklearn/model_selection/_validation.py:593: DataConversionWarning: A column-vector y was passed when a 1d array was expected. Please change the shape of y to (n_samples,), for example using ravel().\n",
      "  estimator.fit(X_train, y_train, **fit_params)\n",
      "/home/vicky90/anaconda3/envs/wafer_with_mlops/lib/python3.6/site-packages/sklearn/model_selection/_validation.py:593: DataConversionWarning: A column-vector y was passed when a 1d array was expected. Please change the shape of y to (n_samples,), for example using ravel().\n",
      "  estimator.fit(X_train, y_train, **fit_params)\n",
      "/home/vicky90/anaconda3/envs/wafer_with_mlops/lib/python3.6/site-packages/sklearn/model_selection/_validation.py:593: DataConversionWarning: A column-vector y was passed when a 1d array was expected. Please change the shape of y to (n_samples,), for example using ravel().\n",
      "  estimator.fit(X_train, y_train, **fit_params)\n",
      "/home/vicky90/anaconda3/envs/wafer_with_mlops/lib/python3.6/site-packages/sklearn/model_selection/_validation.py:593: DataConversionWarning: A column-vector y was passed when a 1d array was expected. Please change the shape of y to (n_samples,), for example using ravel().\n",
      "  estimator.fit(X_train, y_train, **fit_params)\n",
      "/home/vicky90/anaconda3/envs/wafer_with_mlops/lib/python3.6/site-packages/sklearn/model_selection/_validation.py:593: DataConversionWarning: A column-vector y was passed when a 1d array was expected. Please change the shape of y to (n_samples,), for example using ravel().\n",
      "  estimator.fit(X_train, y_train, **fit_params)\n",
      "/home/vicky90/anaconda3/envs/wafer_with_mlops/lib/python3.6/site-packages/sklearn/model_selection/_validation.py:593: DataConversionWarning: A column-vector y was passed when a 1d array was expected. Please change the shape of y to (n_samples,), for example using ravel().\n",
      "  estimator.fit(X_train, y_train, **fit_params)\n",
      "/home/vicky90/anaconda3/envs/wafer_with_mlops/lib/python3.6/site-packages/sklearn/model_selection/_validation.py:593: DataConversionWarning: A column-vector y was passed when a 1d array was expected. Please change the shape of y to (n_samples,), for example using ravel().\n",
      "  estimator.fit(X_train, y_train, **fit_params)\n",
      "/home/vicky90/anaconda3/envs/wafer_with_mlops/lib/python3.6/site-packages/sklearn/model_selection/_validation.py:593: DataConversionWarning: A column-vector y was passed when a 1d array was expected. Please change the shape of y to (n_samples,), for example using ravel().\n",
      "  estimator.fit(X_train, y_train, **fit_params)\n",
      "/home/vicky90/anaconda3/envs/wafer_with_mlops/lib/python3.6/site-packages/sklearn/model_selection/_validation.py:593: DataConversionWarning: A column-vector y was passed when a 1d array was expected. Please change the shape of y to (n_samples,), for example using ravel().\n",
      "  estimator.fit(X_train, y_train, **fit_params)\n",
      "/home/vicky90/anaconda3/envs/wafer_with_mlops/lib/python3.6/site-packages/sklearn/model_selection/_validation.py:593: DataConversionWarning: A column-vector y was passed when a 1d array was expected. Please change the shape of y to (n_samples,), for example using ravel().\n",
      "  estimator.fit(X_train, y_train, **fit_params)\n",
      "/home/vicky90/anaconda3/envs/wafer_with_mlops/lib/python3.6/site-packages/sklearn/model_selection/_validation.py:593: DataConversionWarning: A column-vector y was passed when a 1d array was expected. Please change the shape of y to (n_samples,), for example using ravel().\n",
      "  estimator.fit(X_train, y_train, **fit_params)\n",
      "/home/vicky90/anaconda3/envs/wafer_with_mlops/lib/python3.6/site-packages/sklearn/model_selection/_validation.py:593: DataConversionWarning: A column-vector y was passed when a 1d array was expected. Please change the shape of y to (n_samples,), for example using ravel().\n",
      "  estimator.fit(X_train, y_train, **fit_params)\n",
      "/home/vicky90/anaconda3/envs/wafer_with_mlops/lib/python3.6/site-packages/sklearn/model_selection/_validation.py:593: DataConversionWarning: A column-vector y was passed when a 1d array was expected. Please change the shape of y to (n_samples,), for example using ravel().\n",
      "  estimator.fit(X_train, y_train, **fit_params)\n",
      "/home/vicky90/anaconda3/envs/wafer_with_mlops/lib/python3.6/site-packages/sklearn/model_selection/_validation.py:593: DataConversionWarning: A column-vector y was passed when a 1d array was expected. Please change the shape of y to (n_samples,), for example using ravel().\n",
      "  estimator.fit(X_train, y_train, **fit_params)\n"
     ]
    },
    {
     "name": "stderr",
     "output_type": "stream",
     "text": [
      "/home/vicky90/anaconda3/envs/wafer_with_mlops/lib/python3.6/site-packages/sklearn/model_selection/_validation.py:593: DataConversionWarning: A column-vector y was passed when a 1d array was expected. Please change the shape of y to (n_samples,), for example using ravel().\n",
      "  estimator.fit(X_train, y_train, **fit_params)\n",
      "/home/vicky90/anaconda3/envs/wafer_with_mlops/lib/python3.6/site-packages/sklearn/model_selection/_validation.py:593: DataConversionWarning: A column-vector y was passed when a 1d array was expected. Please change the shape of y to (n_samples,), for example using ravel().\n",
      "  estimator.fit(X_train, y_train, **fit_params)\n",
      "/home/vicky90/anaconda3/envs/wafer_with_mlops/lib/python3.6/site-packages/sklearn/model_selection/_validation.py:593: DataConversionWarning: A column-vector y was passed when a 1d array was expected. Please change the shape of y to (n_samples,), for example using ravel().\n",
      "  estimator.fit(X_train, y_train, **fit_params)\n",
      "/home/vicky90/anaconda3/envs/wafer_with_mlops/lib/python3.6/site-packages/sklearn/model_selection/_validation.py:593: DataConversionWarning: A column-vector y was passed when a 1d array was expected. Please change the shape of y to (n_samples,), for example using ravel().\n",
      "  estimator.fit(X_train, y_train, **fit_params)\n",
      "/home/vicky90/anaconda3/envs/wafer_with_mlops/lib/python3.6/site-packages/sklearn/model_selection/_validation.py:593: DataConversionWarning: A column-vector y was passed when a 1d array was expected. Please change the shape of y to (n_samples,), for example using ravel().\n",
      "  estimator.fit(X_train, y_train, **fit_params)\n",
      "/home/vicky90/anaconda3/envs/wafer_with_mlops/lib/python3.6/site-packages/sklearn/model_selection/_validation.py:593: DataConversionWarning: A column-vector y was passed when a 1d array was expected. Please change the shape of y to (n_samples,), for example using ravel().\n",
      "  estimator.fit(X_train, y_train, **fit_params)\n",
      "/home/vicky90/anaconda3/envs/wafer_with_mlops/lib/python3.6/site-packages/sklearn/model_selection/_validation.py:593: DataConversionWarning: A column-vector y was passed when a 1d array was expected. Please change the shape of y to (n_samples,), for example using ravel().\n",
      "  estimator.fit(X_train, y_train, **fit_params)\n",
      "/home/vicky90/anaconda3/envs/wafer_with_mlops/lib/python3.6/site-packages/sklearn/model_selection/_validation.py:593: DataConversionWarning: A column-vector y was passed when a 1d array was expected. Please change the shape of y to (n_samples,), for example using ravel().\n",
      "  estimator.fit(X_train, y_train, **fit_params)\n",
      "/home/vicky90/anaconda3/envs/wafer_with_mlops/lib/python3.6/site-packages/sklearn/model_selection/_validation.py:593: DataConversionWarning: A column-vector y was passed when a 1d array was expected. Please change the shape of y to (n_samples,), for example using ravel().\n",
      "  estimator.fit(X_train, y_train, **fit_params)\n",
      "/home/vicky90/anaconda3/envs/wafer_with_mlops/lib/python3.6/site-packages/sklearn/model_selection/_validation.py:593: DataConversionWarning: A column-vector y was passed when a 1d array was expected. Please change the shape of y to (n_samples,), for example using ravel().\n",
      "  estimator.fit(X_train, y_train, **fit_params)\n",
      "/home/vicky90/anaconda3/envs/wafer_with_mlops/lib/python3.6/site-packages/sklearn/model_selection/_validation.py:593: DataConversionWarning: A column-vector y was passed when a 1d array was expected. Please change the shape of y to (n_samples,), for example using ravel().\n",
      "  estimator.fit(X_train, y_train, **fit_params)\n",
      "/home/vicky90/anaconda3/envs/wafer_with_mlops/lib/python3.6/site-packages/sklearn/model_selection/_validation.py:593: DataConversionWarning: A column-vector y was passed when a 1d array was expected. Please change the shape of y to (n_samples,), for example using ravel().\n",
      "  estimator.fit(X_train, y_train, **fit_params)\n",
      "/home/vicky90/anaconda3/envs/wafer_with_mlops/lib/python3.6/site-packages/sklearn/model_selection/_validation.py:593: DataConversionWarning: A column-vector y was passed when a 1d array was expected. Please change the shape of y to (n_samples,), for example using ravel().\n",
      "  estimator.fit(X_train, y_train, **fit_params)\n",
      "/home/vicky90/anaconda3/envs/wafer_with_mlops/lib/python3.6/site-packages/sklearn/model_selection/_validation.py:593: DataConversionWarning: A column-vector y was passed when a 1d array was expected. Please change the shape of y to (n_samples,), for example using ravel().\n",
      "  estimator.fit(X_train, y_train, **fit_params)\n",
      "/home/vicky90/anaconda3/envs/wafer_with_mlops/lib/python3.6/site-packages/sklearn/model_selection/_validation.py:593: DataConversionWarning: A column-vector y was passed when a 1d array was expected. Please change the shape of y to (n_samples,), for example using ravel().\n",
      "  estimator.fit(X_train, y_train, **fit_params)\n",
      "/home/vicky90/anaconda3/envs/wafer_with_mlops/lib/python3.6/site-packages/sklearn/model_selection/_validation.py:593: DataConversionWarning: A column-vector y was passed when a 1d array was expected. Please change the shape of y to (n_samples,), for example using ravel().\n",
      "  estimator.fit(X_train, y_train, **fit_params)\n",
      "/home/vicky90/anaconda3/envs/wafer_with_mlops/lib/python3.6/site-packages/sklearn/model_selection/_validation.py:593: DataConversionWarning: A column-vector y was passed when a 1d array was expected. Please change the shape of y to (n_samples,), for example using ravel().\n",
      "  estimator.fit(X_train, y_train, **fit_params)\n",
      "/home/vicky90/anaconda3/envs/wafer_with_mlops/lib/python3.6/site-packages/sklearn/model_selection/_validation.py:593: DataConversionWarning: A column-vector y was passed when a 1d array was expected. Please change the shape of y to (n_samples,), for example using ravel().\n",
      "  estimator.fit(X_train, y_train, **fit_params)\n",
      "/home/vicky90/anaconda3/envs/wafer_with_mlops/lib/python3.6/site-packages/sklearn/model_selection/_validation.py:593: DataConversionWarning: A column-vector y was passed when a 1d array was expected. Please change the shape of y to (n_samples,), for example using ravel().\n",
      "  estimator.fit(X_train, y_train, **fit_params)\n",
      "/home/vicky90/anaconda3/envs/wafer_with_mlops/lib/python3.6/site-packages/sklearn/model_selection/_validation.py:593: DataConversionWarning: A column-vector y was passed when a 1d array was expected. Please change the shape of y to (n_samples,), for example using ravel().\n",
      "  estimator.fit(X_train, y_train, **fit_params)\n",
      "/home/vicky90/anaconda3/envs/wafer_with_mlops/lib/python3.6/site-packages/sklearn/model_selection/_validation.py:593: DataConversionWarning: A column-vector y was passed when a 1d array was expected. Please change the shape of y to (n_samples,), for example using ravel().\n",
      "  estimator.fit(X_train, y_train, **fit_params)\n",
      "/home/vicky90/anaconda3/envs/wafer_with_mlops/lib/python3.6/site-packages/sklearn/model_selection/_validation.py:593: DataConversionWarning: A column-vector y was passed when a 1d array was expected. Please change the shape of y to (n_samples,), for example using ravel().\n",
      "  estimator.fit(X_train, y_train, **fit_params)\n",
      "/home/vicky90/anaconda3/envs/wafer_with_mlops/lib/python3.6/site-packages/sklearn/model_selection/_validation.py:593: DataConversionWarning: A column-vector y was passed when a 1d array was expected. Please change the shape of y to (n_samples,), for example using ravel().\n",
      "  estimator.fit(X_train, y_train, **fit_params)\n",
      "/home/vicky90/anaconda3/envs/wafer_with_mlops/lib/python3.6/site-packages/sklearn/model_selection/_validation.py:593: DataConversionWarning: A column-vector y was passed when a 1d array was expected. Please change the shape of y to (n_samples,), for example using ravel().\n",
      "  estimator.fit(X_train, y_train, **fit_params)\n",
      "/home/vicky90/anaconda3/envs/wafer_with_mlops/lib/python3.6/site-packages/sklearn/model_selection/_validation.py:593: DataConversionWarning: A column-vector y was passed when a 1d array was expected. Please change the shape of y to (n_samples,), for example using ravel().\n",
      "  estimator.fit(X_train, y_train, **fit_params)\n",
      "/home/vicky90/anaconda3/envs/wafer_with_mlops/lib/python3.6/site-packages/sklearn/model_selection/_validation.py:593: DataConversionWarning: A column-vector y was passed when a 1d array was expected. Please change the shape of y to (n_samples,), for example using ravel().\n",
      "  estimator.fit(X_train, y_train, **fit_params)\n"
     ]
    },
    {
     "name": "stderr",
     "output_type": "stream",
     "text": [
      "/home/vicky90/anaconda3/envs/wafer_with_mlops/lib/python3.6/site-packages/sklearn/model_selection/_validation.py:593: DataConversionWarning: A column-vector y was passed when a 1d array was expected. Please change the shape of y to (n_samples,), for example using ravel().\n",
      "  estimator.fit(X_train, y_train, **fit_params)\n",
      "/home/vicky90/anaconda3/envs/wafer_with_mlops/lib/python3.6/site-packages/sklearn/model_selection/_validation.py:593: DataConversionWarning: A column-vector y was passed when a 1d array was expected. Please change the shape of y to (n_samples,), for example using ravel().\n",
      "  estimator.fit(X_train, y_train, **fit_params)\n",
      "/home/vicky90/anaconda3/envs/wafer_with_mlops/lib/python3.6/site-packages/sklearn/model_selection/_validation.py:593: DataConversionWarning: A column-vector y was passed when a 1d array was expected. Please change the shape of y to (n_samples,), for example using ravel().\n",
      "  estimator.fit(X_train, y_train, **fit_params)\n",
      "/home/vicky90/anaconda3/envs/wafer_with_mlops/lib/python3.6/site-packages/sklearn/model_selection/_validation.py:593: DataConversionWarning: A column-vector y was passed when a 1d array was expected. Please change the shape of y to (n_samples,), for example using ravel().\n",
      "  estimator.fit(X_train, y_train, **fit_params)\n",
      "/home/vicky90/anaconda3/envs/wafer_with_mlops/lib/python3.6/site-packages/sklearn/model_selection/_validation.py:593: DataConversionWarning: A column-vector y was passed when a 1d array was expected. Please change the shape of y to (n_samples,), for example using ravel().\n",
      "  estimator.fit(X_train, y_train, **fit_params)\n",
      "/home/vicky90/anaconda3/envs/wafer_with_mlops/lib/python3.6/site-packages/sklearn/model_selection/_validation.py:593: DataConversionWarning: A column-vector y was passed when a 1d array was expected. Please change the shape of y to (n_samples,), for example using ravel().\n",
      "  estimator.fit(X_train, y_train, **fit_params)\n",
      "/home/vicky90/anaconda3/envs/wafer_with_mlops/lib/python3.6/site-packages/sklearn/model_selection/_validation.py:593: DataConversionWarning: A column-vector y was passed when a 1d array was expected. Please change the shape of y to (n_samples,), for example using ravel().\n",
      "  estimator.fit(X_train, y_train, **fit_params)\n",
      "/home/vicky90/anaconda3/envs/wafer_with_mlops/lib/python3.6/site-packages/sklearn/model_selection/_validation.py:593: DataConversionWarning: A column-vector y was passed when a 1d array was expected. Please change the shape of y to (n_samples,), for example using ravel().\n",
      "  estimator.fit(X_train, y_train, **fit_params)\n",
      "/home/vicky90/anaconda3/envs/wafer_with_mlops/lib/python3.6/site-packages/sklearn/model_selection/_validation.py:593: DataConversionWarning: A column-vector y was passed when a 1d array was expected. Please change the shape of y to (n_samples,), for example using ravel().\n",
      "  estimator.fit(X_train, y_train, **fit_params)\n",
      "/home/vicky90/anaconda3/envs/wafer_with_mlops/lib/python3.6/site-packages/sklearn/model_selection/_validation.py:593: DataConversionWarning: A column-vector y was passed when a 1d array was expected. Please change the shape of y to (n_samples,), for example using ravel().\n",
      "  estimator.fit(X_train, y_train, **fit_params)\n",
      "/home/vicky90/anaconda3/envs/wafer_with_mlops/lib/python3.6/site-packages/sklearn/model_selection/_validation.py:593: DataConversionWarning: A column-vector y was passed when a 1d array was expected. Please change the shape of y to (n_samples,), for example using ravel().\n",
      "  estimator.fit(X_train, y_train, **fit_params)\n",
      "/home/vicky90/anaconda3/envs/wafer_with_mlops/lib/python3.6/site-packages/sklearn/model_selection/_validation.py:593: DataConversionWarning: A column-vector y was passed when a 1d array was expected. Please change the shape of y to (n_samples,), for example using ravel().\n",
      "  estimator.fit(X_train, y_train, **fit_params)\n",
      "/home/vicky90/anaconda3/envs/wafer_with_mlops/lib/python3.6/site-packages/sklearn/model_selection/_validation.py:593: DataConversionWarning: A column-vector y was passed when a 1d array was expected. Please change the shape of y to (n_samples,), for example using ravel().\n",
      "  estimator.fit(X_train, y_train, **fit_params)\n",
      "/home/vicky90/anaconda3/envs/wafer_with_mlops/lib/python3.6/site-packages/sklearn/model_selection/_validation.py:593: DataConversionWarning: A column-vector y was passed when a 1d array was expected. Please change the shape of y to (n_samples,), for example using ravel().\n",
      "  estimator.fit(X_train, y_train, **fit_params)\n",
      "/home/vicky90/anaconda3/envs/wafer_with_mlops/lib/python3.6/site-packages/sklearn/model_selection/_validation.py:593: DataConversionWarning: A column-vector y was passed when a 1d array was expected. Please change the shape of y to (n_samples,), for example using ravel().\n",
      "  estimator.fit(X_train, y_train, **fit_params)\n",
      "/home/vicky90/anaconda3/envs/wafer_with_mlops/lib/python3.6/site-packages/sklearn/model_selection/_validation.py:593: DataConversionWarning: A column-vector y was passed when a 1d array was expected. Please change the shape of y to (n_samples,), for example using ravel().\n",
      "  estimator.fit(X_train, y_train, **fit_params)\n",
      "/home/vicky90/anaconda3/envs/wafer_with_mlops/lib/python3.6/site-packages/sklearn/model_selection/_validation.py:593: DataConversionWarning: A column-vector y was passed when a 1d array was expected. Please change the shape of y to (n_samples,), for example using ravel().\n",
      "  estimator.fit(X_train, y_train, **fit_params)\n",
      "/home/vicky90/anaconda3/envs/wafer_with_mlops/lib/python3.6/site-packages/sklearn/model_selection/_validation.py:593: DataConversionWarning: A column-vector y was passed when a 1d array was expected. Please change the shape of y to (n_samples,), for example using ravel().\n",
      "  estimator.fit(X_train, y_train, **fit_params)\n",
      "/home/vicky90/anaconda3/envs/wafer_with_mlops/lib/python3.6/site-packages/sklearn/model_selection/_validation.py:593: DataConversionWarning: A column-vector y was passed when a 1d array was expected. Please change the shape of y to (n_samples,), for example using ravel().\n",
      "  estimator.fit(X_train, y_train, **fit_params)\n",
      "/home/vicky90/anaconda3/envs/wafer_with_mlops/lib/python3.6/site-packages/sklearn/model_selection/_validation.py:593: DataConversionWarning: A column-vector y was passed when a 1d array was expected. Please change the shape of y to (n_samples,), for example using ravel().\n",
      "  estimator.fit(X_train, y_train, **fit_params)\n",
      "/home/vicky90/anaconda3/envs/wafer_with_mlops/lib/python3.6/site-packages/sklearn/model_selection/_validation.py:593: DataConversionWarning: A column-vector y was passed when a 1d array was expected. Please change the shape of y to (n_samples,), for example using ravel().\n",
      "  estimator.fit(X_train, y_train, **fit_params)\n",
      "/home/vicky90/anaconda3/envs/wafer_with_mlops/lib/python3.6/site-packages/sklearn/model_selection/_validation.py:593: DataConversionWarning: A column-vector y was passed when a 1d array was expected. Please change the shape of y to (n_samples,), for example using ravel().\n",
      "  estimator.fit(X_train, y_train, **fit_params)\n",
      "/home/vicky90/anaconda3/envs/wafer_with_mlops/lib/python3.6/site-packages/sklearn/model_selection/_validation.py:593: DataConversionWarning: A column-vector y was passed when a 1d array was expected. Please change the shape of y to (n_samples,), for example using ravel().\n",
      "  estimator.fit(X_train, y_train, **fit_params)\n",
      "/home/vicky90/anaconda3/envs/wafer_with_mlops/lib/python3.6/site-packages/sklearn/model_selection/_validation.py:593: DataConversionWarning: A column-vector y was passed when a 1d array was expected. Please change the shape of y to (n_samples,), for example using ravel().\n",
      "  estimator.fit(X_train, y_train, **fit_params)\n",
      "/home/vicky90/anaconda3/envs/wafer_with_mlops/lib/python3.6/site-packages/sklearn/model_selection/_validation.py:593: DataConversionWarning: A column-vector y was passed when a 1d array was expected. Please change the shape of y to (n_samples,), for example using ravel().\n",
      "  estimator.fit(X_train, y_train, **fit_params)\n",
      "/home/vicky90/anaconda3/envs/wafer_with_mlops/lib/python3.6/site-packages/sklearn/model_selection/_validation.py:593: DataConversionWarning: A column-vector y was passed when a 1d array was expected. Please change the shape of y to (n_samples,), for example using ravel().\n",
      "  estimator.fit(X_train, y_train, **fit_params)\n"
     ]
    },
    {
     "name": "stderr",
     "output_type": "stream",
     "text": [
      "/home/vicky90/anaconda3/envs/wafer_with_mlops/lib/python3.6/site-packages/sklearn/model_selection/_validation.py:593: DataConversionWarning: A column-vector y was passed when a 1d array was expected. Please change the shape of y to (n_samples,), for example using ravel().\n",
      "  estimator.fit(X_train, y_train, **fit_params)\n",
      "/home/vicky90/anaconda3/envs/wafer_with_mlops/lib/python3.6/site-packages/sklearn/model_selection/_validation.py:593: DataConversionWarning: A column-vector y was passed when a 1d array was expected. Please change the shape of y to (n_samples,), for example using ravel().\n",
      "  estimator.fit(X_train, y_train, **fit_params)\n",
      "/home/vicky90/anaconda3/envs/wafer_with_mlops/lib/python3.6/site-packages/sklearn/model_selection/_validation.py:593: DataConversionWarning: A column-vector y was passed when a 1d array was expected. Please change the shape of y to (n_samples,), for example using ravel().\n",
      "  estimator.fit(X_train, y_train, **fit_params)\n",
      "/home/vicky90/anaconda3/envs/wafer_with_mlops/lib/python3.6/site-packages/sklearn/model_selection/_validation.py:593: DataConversionWarning: A column-vector y was passed when a 1d array was expected. Please change the shape of y to (n_samples,), for example using ravel().\n",
      "  estimator.fit(X_train, y_train, **fit_params)\n",
      "/home/vicky90/anaconda3/envs/wafer_with_mlops/lib/python3.6/site-packages/sklearn/model_selection/_validation.py:593: DataConversionWarning: A column-vector y was passed when a 1d array was expected. Please change the shape of y to (n_samples,), for example using ravel().\n",
      "  estimator.fit(X_train, y_train, **fit_params)\n",
      "/home/vicky90/anaconda3/envs/wafer_with_mlops/lib/python3.6/site-packages/sklearn/model_selection/_validation.py:593: DataConversionWarning: A column-vector y was passed when a 1d array was expected. Please change the shape of y to (n_samples,), for example using ravel().\n",
      "  estimator.fit(X_train, y_train, **fit_params)\n",
      "/home/vicky90/anaconda3/envs/wafer_with_mlops/lib/python3.6/site-packages/sklearn/model_selection/_validation.py:593: DataConversionWarning: A column-vector y was passed when a 1d array was expected. Please change the shape of y to (n_samples,), for example using ravel().\n",
      "  estimator.fit(X_train, y_train, **fit_params)\n",
      "/home/vicky90/anaconda3/envs/wafer_with_mlops/lib/python3.6/site-packages/sklearn/model_selection/_validation.py:593: DataConversionWarning: A column-vector y was passed when a 1d array was expected. Please change the shape of y to (n_samples,), for example using ravel().\n",
      "  estimator.fit(X_train, y_train, **fit_params)\n",
      "/home/vicky90/anaconda3/envs/wafer_with_mlops/lib/python3.6/site-packages/sklearn/model_selection/_validation.py:593: DataConversionWarning: A column-vector y was passed when a 1d array was expected. Please change the shape of y to (n_samples,), for example using ravel().\n",
      "  estimator.fit(X_train, y_train, **fit_params)\n",
      "/home/vicky90/anaconda3/envs/wafer_with_mlops/lib/python3.6/site-packages/sklearn/model_selection/_validation.py:593: DataConversionWarning: A column-vector y was passed when a 1d array was expected. Please change the shape of y to (n_samples,), for example using ravel().\n",
      "  estimator.fit(X_train, y_train, **fit_params)\n",
      "/home/vicky90/anaconda3/envs/wafer_with_mlops/lib/python3.6/site-packages/sklearn/model_selection/_validation.py:593: DataConversionWarning: A column-vector y was passed when a 1d array was expected. Please change the shape of y to (n_samples,), for example using ravel().\n",
      "  estimator.fit(X_train, y_train, **fit_params)\n",
      "/home/vicky90/anaconda3/envs/wafer_with_mlops/lib/python3.6/site-packages/sklearn/model_selection/_validation.py:593: DataConversionWarning: A column-vector y was passed when a 1d array was expected. Please change the shape of y to (n_samples,), for example using ravel().\n",
      "  estimator.fit(X_train, y_train, **fit_params)\n",
      "/home/vicky90/anaconda3/envs/wafer_with_mlops/lib/python3.6/site-packages/sklearn/model_selection/_validation.py:593: DataConversionWarning: A column-vector y was passed when a 1d array was expected. Please change the shape of y to (n_samples,), for example using ravel().\n",
      "  estimator.fit(X_train, y_train, **fit_params)\n",
      "/home/vicky90/anaconda3/envs/wafer_with_mlops/lib/python3.6/site-packages/sklearn/model_selection/_validation.py:593: DataConversionWarning: A column-vector y was passed when a 1d array was expected. Please change the shape of y to (n_samples,), for example using ravel().\n",
      "  estimator.fit(X_train, y_train, **fit_params)\n",
      "/home/vicky90/anaconda3/envs/wafer_with_mlops/lib/python3.6/site-packages/sklearn/model_selection/_validation.py:593: DataConversionWarning: A column-vector y was passed when a 1d array was expected. Please change the shape of y to (n_samples,), for example using ravel().\n",
      "  estimator.fit(X_train, y_train, **fit_params)\n",
      "/home/vicky90/anaconda3/envs/wafer_with_mlops/lib/python3.6/site-packages/sklearn/model_selection/_validation.py:593: DataConversionWarning: A column-vector y was passed when a 1d array was expected. Please change the shape of y to (n_samples,), for example using ravel().\n",
      "  estimator.fit(X_train, y_train, **fit_params)\n",
      "/home/vicky90/anaconda3/envs/wafer_with_mlops/lib/python3.6/site-packages/sklearn/model_selection/_validation.py:593: DataConversionWarning: A column-vector y was passed when a 1d array was expected. Please change the shape of y to (n_samples,), for example using ravel().\n",
      "  estimator.fit(X_train, y_train, **fit_params)\n",
      "/home/vicky90/anaconda3/envs/wafer_with_mlops/lib/python3.6/site-packages/sklearn/model_selection/_validation.py:593: DataConversionWarning: A column-vector y was passed when a 1d array was expected. Please change the shape of y to (n_samples,), for example using ravel().\n",
      "  estimator.fit(X_train, y_train, **fit_params)\n",
      "/home/vicky90/anaconda3/envs/wafer_with_mlops/lib/python3.6/site-packages/sklearn/model_selection/_validation.py:593: DataConversionWarning: A column-vector y was passed when a 1d array was expected. Please change the shape of y to (n_samples,), for example using ravel().\n",
      "  estimator.fit(X_train, y_train, **fit_params)\n",
      "/home/vicky90/anaconda3/envs/wafer_with_mlops/lib/python3.6/site-packages/sklearn/model_selection/_validation.py:593: DataConversionWarning: A column-vector y was passed when a 1d array was expected. Please change the shape of y to (n_samples,), for example using ravel().\n",
      "  estimator.fit(X_train, y_train, **fit_params)\n",
      "/home/vicky90/anaconda3/envs/wafer_with_mlops/lib/python3.6/site-packages/sklearn/model_selection/_validation.py:593: DataConversionWarning: A column-vector y was passed when a 1d array was expected. Please change the shape of y to (n_samples,), for example using ravel().\n",
      "  estimator.fit(X_train, y_train, **fit_params)\n",
      "/home/vicky90/anaconda3/envs/wafer_with_mlops/lib/python3.6/site-packages/sklearn/model_selection/_validation.py:593: DataConversionWarning: A column-vector y was passed when a 1d array was expected. Please change the shape of y to (n_samples,), for example using ravel().\n",
      "  estimator.fit(X_train, y_train, **fit_params)\n",
      "/home/vicky90/anaconda3/envs/wafer_with_mlops/lib/python3.6/site-packages/sklearn/model_selection/_validation.py:593: DataConversionWarning: A column-vector y was passed when a 1d array was expected. Please change the shape of y to (n_samples,), for example using ravel().\n",
      "  estimator.fit(X_train, y_train, **fit_params)\n",
      "/home/vicky90/anaconda3/envs/wafer_with_mlops/lib/python3.6/site-packages/sklearn/model_selection/_validation.py:593: DataConversionWarning: A column-vector y was passed when a 1d array was expected. Please change the shape of y to (n_samples,), for example using ravel().\n",
      "  estimator.fit(X_train, y_train, **fit_params)\n",
      "/home/vicky90/anaconda3/envs/wafer_with_mlops/lib/python3.6/site-packages/sklearn/model_selection/_validation.py:593: DataConversionWarning: A column-vector y was passed when a 1d array was expected. Please change the shape of y to (n_samples,), for example using ravel().\n",
      "  estimator.fit(X_train, y_train, **fit_params)\n",
      "/home/vicky90/anaconda3/envs/wafer_with_mlops/lib/python3.6/site-packages/sklearn/model_selection/_validation.py:593: DataConversionWarning: A column-vector y was passed when a 1d array was expected. Please change the shape of y to (n_samples,), for example using ravel().\n",
      "  estimator.fit(X_train, y_train, **fit_params)\n"
     ]
    },
    {
     "name": "stderr",
     "output_type": "stream",
     "text": [
      "/home/vicky90/anaconda3/envs/wafer_with_mlops/lib/python3.6/site-packages/sklearn/model_selection/_validation.py:593: DataConversionWarning: A column-vector y was passed when a 1d array was expected. Please change the shape of y to (n_samples,), for example using ravel().\n",
      "  estimator.fit(X_train, y_train, **fit_params)\n",
      "/home/vicky90/anaconda3/envs/wafer_with_mlops/lib/python3.6/site-packages/sklearn/model_selection/_validation.py:593: DataConversionWarning: A column-vector y was passed when a 1d array was expected. Please change the shape of y to (n_samples,), for example using ravel().\n",
      "  estimator.fit(X_train, y_train, **fit_params)\n",
      "/home/vicky90/anaconda3/envs/wafer_with_mlops/lib/python3.6/site-packages/sklearn/model_selection/_validation.py:593: DataConversionWarning: A column-vector y was passed when a 1d array was expected. Please change the shape of y to (n_samples,), for example using ravel().\n",
      "  estimator.fit(X_train, y_train, **fit_params)\n",
      "/home/vicky90/anaconda3/envs/wafer_with_mlops/lib/python3.6/site-packages/sklearn/model_selection/_validation.py:593: DataConversionWarning: A column-vector y was passed when a 1d array was expected. Please change the shape of y to (n_samples,), for example using ravel().\n",
      "  estimator.fit(X_train, y_train, **fit_params)\n",
      "/home/vicky90/anaconda3/envs/wafer_with_mlops/lib/python3.6/site-packages/sklearn/model_selection/_validation.py:593: DataConversionWarning: A column-vector y was passed when a 1d array was expected. Please change the shape of y to (n_samples,), for example using ravel().\n",
      "  estimator.fit(X_train, y_train, **fit_params)\n",
      "/home/vicky90/anaconda3/envs/wafer_with_mlops/lib/python3.6/site-packages/sklearn/model_selection/_validation.py:593: DataConversionWarning: A column-vector y was passed when a 1d array was expected. Please change the shape of y to (n_samples,), for example using ravel().\n",
      "  estimator.fit(X_train, y_train, **fit_params)\n",
      "/home/vicky90/anaconda3/envs/wafer_with_mlops/lib/python3.6/site-packages/sklearn/model_selection/_validation.py:593: DataConversionWarning: A column-vector y was passed when a 1d array was expected. Please change the shape of y to (n_samples,), for example using ravel().\n",
      "  estimator.fit(X_train, y_train, **fit_params)\n",
      "/home/vicky90/anaconda3/envs/wafer_with_mlops/lib/python3.6/site-packages/sklearn/model_selection/_validation.py:593: DataConversionWarning: A column-vector y was passed when a 1d array was expected. Please change the shape of y to (n_samples,), for example using ravel().\n",
      "  estimator.fit(X_train, y_train, **fit_params)\n",
      "/home/vicky90/anaconda3/envs/wafer_with_mlops/lib/python3.6/site-packages/sklearn/model_selection/_validation.py:593: DataConversionWarning: A column-vector y was passed when a 1d array was expected. Please change the shape of y to (n_samples,), for example using ravel().\n",
      "  estimator.fit(X_train, y_train, **fit_params)\n",
      "/home/vicky90/anaconda3/envs/wafer_with_mlops/lib/python3.6/site-packages/sklearn/model_selection/_validation.py:593: DataConversionWarning: A column-vector y was passed when a 1d array was expected. Please change the shape of y to (n_samples,), for example using ravel().\n",
      "  estimator.fit(X_train, y_train, **fit_params)\n",
      "/home/vicky90/anaconda3/envs/wafer_with_mlops/lib/python3.6/site-packages/sklearn/model_selection/_validation.py:593: DataConversionWarning: A column-vector y was passed when a 1d array was expected. Please change the shape of y to (n_samples,), for example using ravel().\n",
      "  estimator.fit(X_train, y_train, **fit_params)\n",
      "/home/vicky90/anaconda3/envs/wafer_with_mlops/lib/python3.6/site-packages/sklearn/model_selection/_validation.py:593: DataConversionWarning: A column-vector y was passed when a 1d array was expected. Please change the shape of y to (n_samples,), for example using ravel().\n",
      "  estimator.fit(X_train, y_train, **fit_params)\n",
      "/home/vicky90/anaconda3/envs/wafer_with_mlops/lib/python3.6/site-packages/sklearn/model_selection/_validation.py:593: DataConversionWarning: A column-vector y was passed when a 1d array was expected. Please change the shape of y to (n_samples,), for example using ravel().\n",
      "  estimator.fit(X_train, y_train, **fit_params)\n",
      "/home/vicky90/anaconda3/envs/wafer_with_mlops/lib/python3.6/site-packages/sklearn/model_selection/_validation.py:593: DataConversionWarning: A column-vector y was passed when a 1d array was expected. Please change the shape of y to (n_samples,), for example using ravel().\n",
      "  estimator.fit(X_train, y_train, **fit_params)\n",
      "/home/vicky90/anaconda3/envs/wafer_with_mlops/lib/python3.6/site-packages/sklearn/model_selection/_validation.py:593: DataConversionWarning: A column-vector y was passed when a 1d array was expected. Please change the shape of y to (n_samples,), for example using ravel().\n",
      "  estimator.fit(X_train, y_train, **fit_params)\n",
      "/home/vicky90/anaconda3/envs/wafer_with_mlops/lib/python3.6/site-packages/sklearn/model_selection/_validation.py:593: DataConversionWarning: A column-vector y was passed when a 1d array was expected. Please change the shape of y to (n_samples,), for example using ravel().\n",
      "  estimator.fit(X_train, y_train, **fit_params)\n",
      "/home/vicky90/anaconda3/envs/wafer_with_mlops/lib/python3.6/site-packages/sklearn/model_selection/_validation.py:593: DataConversionWarning: A column-vector y was passed when a 1d array was expected. Please change the shape of y to (n_samples,), for example using ravel().\n",
      "  estimator.fit(X_train, y_train, **fit_params)\n",
      "/home/vicky90/anaconda3/envs/wafer_with_mlops/lib/python3.6/site-packages/sklearn/model_selection/_validation.py:593: DataConversionWarning: A column-vector y was passed when a 1d array was expected. Please change the shape of y to (n_samples,), for example using ravel().\n",
      "  estimator.fit(X_train, y_train, **fit_params)\n",
      "/home/vicky90/anaconda3/envs/wafer_with_mlops/lib/python3.6/site-packages/sklearn/model_selection/_validation.py:593: DataConversionWarning: A column-vector y was passed when a 1d array was expected. Please change the shape of y to (n_samples,), for example using ravel().\n",
      "  estimator.fit(X_train, y_train, **fit_params)\n",
      "/home/vicky90/anaconda3/envs/wafer_with_mlops/lib/python3.6/site-packages/sklearn/model_selection/_validation.py:593: DataConversionWarning: A column-vector y was passed when a 1d array was expected. Please change the shape of y to (n_samples,), for example using ravel().\n",
      "  estimator.fit(X_train, y_train, **fit_params)\n",
      "/home/vicky90/anaconda3/envs/wafer_with_mlops/lib/python3.6/site-packages/sklearn/model_selection/_validation.py:593: DataConversionWarning: A column-vector y was passed when a 1d array was expected. Please change the shape of y to (n_samples,), for example using ravel().\n",
      "  estimator.fit(X_train, y_train, **fit_params)\n",
      "/home/vicky90/anaconda3/envs/wafer_with_mlops/lib/python3.6/site-packages/sklearn/model_selection/_validation.py:593: DataConversionWarning: A column-vector y was passed when a 1d array was expected. Please change the shape of y to (n_samples,), for example using ravel().\n",
      "  estimator.fit(X_train, y_train, **fit_params)\n",
      "/home/vicky90/anaconda3/envs/wafer_with_mlops/lib/python3.6/site-packages/sklearn/model_selection/_validation.py:593: DataConversionWarning: A column-vector y was passed when a 1d array was expected. Please change the shape of y to (n_samples,), for example using ravel().\n",
      "  estimator.fit(X_train, y_train, **fit_params)\n",
      "/home/vicky90/anaconda3/envs/wafer_with_mlops/lib/python3.6/site-packages/sklearn/model_selection/_validation.py:593: DataConversionWarning: A column-vector y was passed when a 1d array was expected. Please change the shape of y to (n_samples,), for example using ravel().\n",
      "  estimator.fit(X_train, y_train, **fit_params)\n",
      "/home/vicky90/anaconda3/envs/wafer_with_mlops/lib/python3.6/site-packages/sklearn/model_selection/_validation.py:593: DataConversionWarning: A column-vector y was passed when a 1d array was expected. Please change the shape of y to (n_samples,), for example using ravel().\n",
      "  estimator.fit(X_train, y_train, **fit_params)\n",
      "/home/vicky90/anaconda3/envs/wafer_with_mlops/lib/python3.6/site-packages/sklearn/model_selection/_validation.py:593: DataConversionWarning: A column-vector y was passed when a 1d array was expected. Please change the shape of y to (n_samples,), for example using ravel().\n",
      "  estimator.fit(X_train, y_train, **fit_params)\n"
     ]
    },
    {
     "name": "stderr",
     "output_type": "stream",
     "text": [
      "/home/vicky90/anaconda3/envs/wafer_with_mlops/lib/python3.6/site-packages/sklearn/model_selection/_validation.py:593: DataConversionWarning: A column-vector y was passed when a 1d array was expected. Please change the shape of y to (n_samples,), for example using ravel().\n",
      "  estimator.fit(X_train, y_train, **fit_params)\n",
      "/home/vicky90/anaconda3/envs/wafer_with_mlops/lib/python3.6/site-packages/sklearn/model_selection/_validation.py:593: DataConversionWarning: A column-vector y was passed when a 1d array was expected. Please change the shape of y to (n_samples,), for example using ravel().\n",
      "  estimator.fit(X_train, y_train, **fit_params)\n",
      "/home/vicky90/anaconda3/envs/wafer_with_mlops/lib/python3.6/site-packages/sklearn/model_selection/_validation.py:593: DataConversionWarning: A column-vector y was passed when a 1d array was expected. Please change the shape of y to (n_samples,), for example using ravel().\n",
      "  estimator.fit(X_train, y_train, **fit_params)\n",
      "/home/vicky90/anaconda3/envs/wafer_with_mlops/lib/python3.6/site-packages/sklearn/model_selection/_validation.py:593: DataConversionWarning: A column-vector y was passed when a 1d array was expected. Please change the shape of y to (n_samples,), for example using ravel().\n",
      "  estimator.fit(X_train, y_train, **fit_params)\n",
      "/home/vicky90/anaconda3/envs/wafer_with_mlops/lib/python3.6/site-packages/sklearn/model_selection/_validation.py:593: DataConversionWarning: A column-vector y was passed when a 1d array was expected. Please change the shape of y to (n_samples,), for example using ravel().\n",
      "  estimator.fit(X_train, y_train, **fit_params)\n",
      "/home/vicky90/anaconda3/envs/wafer_with_mlops/lib/python3.6/site-packages/sklearn/model_selection/_validation.py:593: DataConversionWarning: A column-vector y was passed when a 1d array was expected. Please change the shape of y to (n_samples,), for example using ravel().\n",
      "  estimator.fit(X_train, y_train, **fit_params)\n",
      "/home/vicky90/anaconda3/envs/wafer_with_mlops/lib/python3.6/site-packages/sklearn/model_selection/_validation.py:593: DataConversionWarning: A column-vector y was passed when a 1d array was expected. Please change the shape of y to (n_samples,), for example using ravel().\n",
      "  estimator.fit(X_train, y_train, **fit_params)\n",
      "/home/vicky90/anaconda3/envs/wafer_with_mlops/lib/python3.6/site-packages/sklearn/model_selection/_validation.py:593: DataConversionWarning: A column-vector y was passed when a 1d array was expected. Please change the shape of y to (n_samples,), for example using ravel().\n",
      "  estimator.fit(X_train, y_train, **fit_params)\n",
      "/home/vicky90/anaconda3/envs/wafer_with_mlops/lib/python3.6/site-packages/sklearn/model_selection/_validation.py:593: DataConversionWarning: A column-vector y was passed when a 1d array was expected. Please change the shape of y to (n_samples,), for example using ravel().\n",
      "  estimator.fit(X_train, y_train, **fit_params)\n",
      "/home/vicky90/anaconda3/envs/wafer_with_mlops/lib/python3.6/site-packages/sklearn/model_selection/_validation.py:593: DataConversionWarning: A column-vector y was passed when a 1d array was expected. Please change the shape of y to (n_samples,), for example using ravel().\n",
      "  estimator.fit(X_train, y_train, **fit_params)\n",
      "/home/vicky90/anaconda3/envs/wafer_with_mlops/lib/python3.6/site-packages/sklearn/model_selection/_validation.py:593: DataConversionWarning: A column-vector y was passed when a 1d array was expected. Please change the shape of y to (n_samples,), for example using ravel().\n",
      "  estimator.fit(X_train, y_train, **fit_params)\n",
      "/home/vicky90/anaconda3/envs/wafer_with_mlops/lib/python3.6/site-packages/sklearn/model_selection/_validation.py:593: DataConversionWarning: A column-vector y was passed when a 1d array was expected. Please change the shape of y to (n_samples,), for example using ravel().\n",
      "  estimator.fit(X_train, y_train, **fit_params)\n",
      "/home/vicky90/anaconda3/envs/wafer_with_mlops/lib/python3.6/site-packages/sklearn/model_selection/_validation.py:593: DataConversionWarning: A column-vector y was passed when a 1d array was expected. Please change the shape of y to (n_samples,), for example using ravel().\n",
      "  estimator.fit(X_train, y_train, **fit_params)\n",
      "/home/vicky90/anaconda3/envs/wafer_with_mlops/lib/python3.6/site-packages/sklearn/model_selection/_validation.py:593: DataConversionWarning: A column-vector y was passed when a 1d array was expected. Please change the shape of y to (n_samples,), for example using ravel().\n",
      "  estimator.fit(X_train, y_train, **fit_params)\n",
      "/home/vicky90/anaconda3/envs/wafer_with_mlops/lib/python3.6/site-packages/sklearn/model_selection/_validation.py:593: DataConversionWarning: A column-vector y was passed when a 1d array was expected. Please change the shape of y to (n_samples,), for example using ravel().\n",
      "  estimator.fit(X_train, y_train, **fit_params)\n",
      "/home/vicky90/anaconda3/envs/wafer_with_mlops/lib/python3.6/site-packages/sklearn/model_selection/_validation.py:593: DataConversionWarning: A column-vector y was passed when a 1d array was expected. Please change the shape of y to (n_samples,), for example using ravel().\n",
      "  estimator.fit(X_train, y_train, **fit_params)\n",
      "/home/vicky90/anaconda3/envs/wafer_with_mlops/lib/python3.6/site-packages/sklearn/model_selection/_validation.py:593: DataConversionWarning: A column-vector y was passed when a 1d array was expected. Please change the shape of y to (n_samples,), for example using ravel().\n",
      "  estimator.fit(X_train, y_train, **fit_params)\n",
      "/home/vicky90/anaconda3/envs/wafer_with_mlops/lib/python3.6/site-packages/sklearn/model_selection/_validation.py:593: DataConversionWarning: A column-vector y was passed when a 1d array was expected. Please change the shape of y to (n_samples,), for example using ravel().\n",
      "  estimator.fit(X_train, y_train, **fit_params)\n",
      "/home/vicky90/anaconda3/envs/wafer_with_mlops/lib/python3.6/site-packages/sklearn/model_selection/_validation.py:593: DataConversionWarning: A column-vector y was passed when a 1d array was expected. Please change the shape of y to (n_samples,), for example using ravel().\n",
      "  estimator.fit(X_train, y_train, **fit_params)\n",
      "/home/vicky90/anaconda3/envs/wafer_with_mlops/lib/python3.6/site-packages/sklearn/model_selection/_validation.py:593: DataConversionWarning: A column-vector y was passed when a 1d array was expected. Please change the shape of y to (n_samples,), for example using ravel().\n",
      "  estimator.fit(X_train, y_train, **fit_params)\n",
      "/home/vicky90/anaconda3/envs/wafer_with_mlops/lib/python3.6/site-packages/sklearn/model_selection/_validation.py:593: DataConversionWarning: A column-vector y was passed when a 1d array was expected. Please change the shape of y to (n_samples,), for example using ravel().\n",
      "  estimator.fit(X_train, y_train, **fit_params)\n",
      "/home/vicky90/anaconda3/envs/wafer_with_mlops/lib/python3.6/site-packages/sklearn/model_selection/_validation.py:593: DataConversionWarning: A column-vector y was passed when a 1d array was expected. Please change the shape of y to (n_samples,), for example using ravel().\n",
      "  estimator.fit(X_train, y_train, **fit_params)\n",
      "/home/vicky90/anaconda3/envs/wafer_with_mlops/lib/python3.6/site-packages/sklearn/model_selection/_validation.py:593: DataConversionWarning: A column-vector y was passed when a 1d array was expected. Please change the shape of y to (n_samples,), for example using ravel().\n",
      "  estimator.fit(X_train, y_train, **fit_params)\n",
      "/home/vicky90/anaconda3/envs/wafer_with_mlops/lib/python3.6/site-packages/sklearn/model_selection/_validation.py:593: DataConversionWarning: A column-vector y was passed when a 1d array was expected. Please change the shape of y to (n_samples,), for example using ravel().\n",
      "  estimator.fit(X_train, y_train, **fit_params)\n",
      "/home/vicky90/anaconda3/envs/wafer_with_mlops/lib/python3.6/site-packages/sklearn/model_selection/_validation.py:593: DataConversionWarning: A column-vector y was passed when a 1d array was expected. Please change the shape of y to (n_samples,), for example using ravel().\n",
      "  estimator.fit(X_train, y_train, **fit_params)\n",
      "/home/vicky90/anaconda3/envs/wafer_with_mlops/lib/python3.6/site-packages/sklearn/model_selection/_validation.py:593: DataConversionWarning: A column-vector y was passed when a 1d array was expected. Please change the shape of y to (n_samples,), for example using ravel().\n",
      "  estimator.fit(X_train, y_train, **fit_params)\n"
     ]
    },
    {
     "name": "stderr",
     "output_type": "stream",
     "text": [
      "/home/vicky90/anaconda3/envs/wafer_with_mlops/lib/python3.6/site-packages/sklearn/model_selection/_validation.py:593: DataConversionWarning: A column-vector y was passed when a 1d array was expected. Please change the shape of y to (n_samples,), for example using ravel().\n",
      "  estimator.fit(X_train, y_train, **fit_params)\n",
      "/home/vicky90/anaconda3/envs/wafer_with_mlops/lib/python3.6/site-packages/sklearn/model_selection/_validation.py:593: DataConversionWarning: A column-vector y was passed when a 1d array was expected. Please change the shape of y to (n_samples,), for example using ravel().\n",
      "  estimator.fit(X_train, y_train, **fit_params)\n",
      "/home/vicky90/anaconda3/envs/wafer_with_mlops/lib/python3.6/site-packages/sklearn/model_selection/_validation.py:593: DataConversionWarning: A column-vector y was passed when a 1d array was expected. Please change the shape of y to (n_samples,), for example using ravel().\n",
      "  estimator.fit(X_train, y_train, **fit_params)\n",
      "/home/vicky90/anaconda3/envs/wafer_with_mlops/lib/python3.6/site-packages/sklearn/model_selection/_validation.py:593: DataConversionWarning: A column-vector y was passed when a 1d array was expected. Please change the shape of y to (n_samples,), for example using ravel().\n",
      "  estimator.fit(X_train, y_train, **fit_params)\n",
      "/home/vicky90/anaconda3/envs/wafer_with_mlops/lib/python3.6/site-packages/sklearn/model_selection/_validation.py:593: DataConversionWarning: A column-vector y was passed when a 1d array was expected. Please change the shape of y to (n_samples,), for example using ravel().\n",
      "  estimator.fit(X_train, y_train, **fit_params)\n",
      "/home/vicky90/anaconda3/envs/wafer_with_mlops/lib/python3.6/site-packages/sklearn/model_selection/_validation.py:593: DataConversionWarning: A column-vector y was passed when a 1d array was expected. Please change the shape of y to (n_samples,), for example using ravel().\n",
      "  estimator.fit(X_train, y_train, **fit_params)\n",
      "/home/vicky90/anaconda3/envs/wafer_with_mlops/lib/python3.6/site-packages/sklearn/model_selection/_validation.py:593: DataConversionWarning: A column-vector y was passed when a 1d array was expected. Please change the shape of y to (n_samples,), for example using ravel().\n",
      "  estimator.fit(X_train, y_train, **fit_params)\n",
      "/home/vicky90/anaconda3/envs/wafer_with_mlops/lib/python3.6/site-packages/sklearn/model_selection/_validation.py:593: DataConversionWarning: A column-vector y was passed when a 1d array was expected. Please change the shape of y to (n_samples,), for example using ravel().\n",
      "  estimator.fit(X_train, y_train, **fit_params)\n",
      "/home/vicky90/anaconda3/envs/wafer_with_mlops/lib/python3.6/site-packages/sklearn/model_selection/_validation.py:593: DataConversionWarning: A column-vector y was passed when a 1d array was expected. Please change the shape of y to (n_samples,), for example using ravel().\n",
      "  estimator.fit(X_train, y_train, **fit_params)\n",
      "/home/vicky90/anaconda3/envs/wafer_with_mlops/lib/python3.6/site-packages/sklearn/model_selection/_validation.py:593: DataConversionWarning: A column-vector y was passed when a 1d array was expected. Please change the shape of y to (n_samples,), for example using ravel().\n",
      "  estimator.fit(X_train, y_train, **fit_params)\n",
      "/home/vicky90/anaconda3/envs/wafer_with_mlops/lib/python3.6/site-packages/sklearn/model_selection/_validation.py:593: DataConversionWarning: A column-vector y was passed when a 1d array was expected. Please change the shape of y to (n_samples,), for example using ravel().\n",
      "  estimator.fit(X_train, y_train, **fit_params)\n",
      "/home/vicky90/anaconda3/envs/wafer_with_mlops/lib/python3.6/site-packages/sklearn/model_selection/_validation.py:593: DataConversionWarning: A column-vector y was passed when a 1d array was expected. Please change the shape of y to (n_samples,), for example using ravel().\n",
      "  estimator.fit(X_train, y_train, **fit_params)\n",
      "/home/vicky90/anaconda3/envs/wafer_with_mlops/lib/python3.6/site-packages/sklearn/model_selection/_validation.py:593: DataConversionWarning: A column-vector y was passed when a 1d array was expected. Please change the shape of y to (n_samples,), for example using ravel().\n",
      "  estimator.fit(X_train, y_train, **fit_params)\n",
      "/home/vicky90/anaconda3/envs/wafer_with_mlops/lib/python3.6/site-packages/sklearn/model_selection/_validation.py:593: DataConversionWarning: A column-vector y was passed when a 1d array was expected. Please change the shape of y to (n_samples,), for example using ravel().\n",
      "  estimator.fit(X_train, y_train, **fit_params)\n",
      "/home/vicky90/anaconda3/envs/wafer_with_mlops/lib/python3.6/site-packages/sklearn/model_selection/_validation.py:593: DataConversionWarning: A column-vector y was passed when a 1d array was expected. Please change the shape of y to (n_samples,), for example using ravel().\n",
      "  estimator.fit(X_train, y_train, **fit_params)\n",
      "/home/vicky90/anaconda3/envs/wafer_with_mlops/lib/python3.6/site-packages/sklearn/model_selection/_validation.py:593: DataConversionWarning: A column-vector y was passed when a 1d array was expected. Please change the shape of y to (n_samples,), for example using ravel().\n",
      "  estimator.fit(X_train, y_train, **fit_params)\n",
      "/home/vicky90/anaconda3/envs/wafer_with_mlops/lib/python3.6/site-packages/sklearn/model_selection/_validation.py:593: DataConversionWarning: A column-vector y was passed when a 1d array was expected. Please change the shape of y to (n_samples,), for example using ravel().\n",
      "  estimator.fit(X_train, y_train, **fit_params)\n",
      "/home/vicky90/anaconda3/envs/wafer_with_mlops/lib/python3.6/site-packages/sklearn/model_selection/_validation.py:593: DataConversionWarning: A column-vector y was passed when a 1d array was expected. Please change the shape of y to (n_samples,), for example using ravel().\n",
      "  estimator.fit(X_train, y_train, **fit_params)\n",
      "/home/vicky90/anaconda3/envs/wafer_with_mlops/lib/python3.6/site-packages/sklearn/model_selection/_validation.py:593: DataConversionWarning: A column-vector y was passed when a 1d array was expected. Please change the shape of y to (n_samples,), for example using ravel().\n",
      "  estimator.fit(X_train, y_train, **fit_params)\n",
      "/home/vicky90/anaconda3/envs/wafer_with_mlops/lib/python3.6/site-packages/sklearn/model_selection/_validation.py:593: DataConversionWarning: A column-vector y was passed when a 1d array was expected. Please change the shape of y to (n_samples,), for example using ravel().\n",
      "  estimator.fit(X_train, y_train, **fit_params)\n",
      "/home/vicky90/anaconda3/envs/wafer_with_mlops/lib/python3.6/site-packages/sklearn/model_selection/_validation.py:593: DataConversionWarning: A column-vector y was passed when a 1d array was expected. Please change the shape of y to (n_samples,), for example using ravel().\n",
      "  estimator.fit(X_train, y_train, **fit_params)\n",
      "/home/vicky90/anaconda3/envs/wafer_with_mlops/lib/python3.6/site-packages/sklearn/model_selection/_validation.py:593: DataConversionWarning: A column-vector y was passed when a 1d array was expected. Please change the shape of y to (n_samples,), for example using ravel().\n",
      "  estimator.fit(X_train, y_train, **fit_params)\n",
      "/home/vicky90/anaconda3/envs/wafer_with_mlops/lib/python3.6/site-packages/sklearn/model_selection/_validation.py:593: DataConversionWarning: A column-vector y was passed when a 1d array was expected. Please change the shape of y to (n_samples,), for example using ravel().\n",
      "  estimator.fit(X_train, y_train, **fit_params)\n",
      "/home/vicky90/anaconda3/envs/wafer_with_mlops/lib/python3.6/site-packages/sklearn/model_selection/_validation.py:593: DataConversionWarning: A column-vector y was passed when a 1d array was expected. Please change the shape of y to (n_samples,), for example using ravel().\n",
      "  estimator.fit(X_train, y_train, **fit_params)\n",
      "/home/vicky90/anaconda3/envs/wafer_with_mlops/lib/python3.6/site-packages/sklearn/model_selection/_validation.py:593: DataConversionWarning: A column-vector y was passed when a 1d array was expected. Please change the shape of y to (n_samples,), for example using ravel().\n",
      "  estimator.fit(X_train, y_train, **fit_params)\n",
      "/home/vicky90/anaconda3/envs/wafer_with_mlops/lib/python3.6/site-packages/sklearn/model_selection/_validation.py:593: DataConversionWarning: A column-vector y was passed when a 1d array was expected. Please change the shape of y to (n_samples,), for example using ravel().\n",
      "  estimator.fit(X_train, y_train, **fit_params)\n"
     ]
    },
    {
     "name": "stderr",
     "output_type": "stream",
     "text": [
      "/home/vicky90/anaconda3/envs/wafer_with_mlops/lib/python3.6/site-packages/sklearn/model_selection/_validation.py:593: DataConversionWarning: A column-vector y was passed when a 1d array was expected. Please change the shape of y to (n_samples,), for example using ravel().\n",
      "  estimator.fit(X_train, y_train, **fit_params)\n",
      "/home/vicky90/anaconda3/envs/wafer_with_mlops/lib/python3.6/site-packages/sklearn/model_selection/_validation.py:593: DataConversionWarning: A column-vector y was passed when a 1d array was expected. Please change the shape of y to (n_samples,), for example using ravel().\n",
      "  estimator.fit(X_train, y_train, **fit_params)\n",
      "/home/vicky90/anaconda3/envs/wafer_with_mlops/lib/python3.6/site-packages/sklearn/model_selection/_validation.py:593: DataConversionWarning: A column-vector y was passed when a 1d array was expected. Please change the shape of y to (n_samples,), for example using ravel().\n",
      "  estimator.fit(X_train, y_train, **fit_params)\n",
      "/home/vicky90/anaconda3/envs/wafer_with_mlops/lib/python3.6/site-packages/sklearn/model_selection/_validation.py:593: DataConversionWarning: A column-vector y was passed when a 1d array was expected. Please change the shape of y to (n_samples,), for example using ravel().\n",
      "  estimator.fit(X_train, y_train, **fit_params)\n",
      "/home/vicky90/anaconda3/envs/wafer_with_mlops/lib/python3.6/site-packages/sklearn/model_selection/_validation.py:593: DataConversionWarning: A column-vector y was passed when a 1d array was expected. Please change the shape of y to (n_samples,), for example using ravel().\n",
      "  estimator.fit(X_train, y_train, **fit_params)\n",
      "/home/vicky90/anaconda3/envs/wafer_with_mlops/lib/python3.6/site-packages/sklearn/model_selection/_validation.py:593: DataConversionWarning: A column-vector y was passed when a 1d array was expected. Please change the shape of y to (n_samples,), for example using ravel().\n",
      "  estimator.fit(X_train, y_train, **fit_params)\n",
      "/home/vicky90/anaconda3/envs/wafer_with_mlops/lib/python3.6/site-packages/sklearn/model_selection/_validation.py:593: DataConversionWarning: A column-vector y was passed when a 1d array was expected. Please change the shape of y to (n_samples,), for example using ravel().\n",
      "  estimator.fit(X_train, y_train, **fit_params)\n",
      "/home/vicky90/anaconda3/envs/wafer_with_mlops/lib/python3.6/site-packages/sklearn/model_selection/_validation.py:593: DataConversionWarning: A column-vector y was passed when a 1d array was expected. Please change the shape of y to (n_samples,), for example using ravel().\n",
      "  estimator.fit(X_train, y_train, **fit_params)\n",
      "/home/vicky90/anaconda3/envs/wafer_with_mlops/lib/python3.6/site-packages/sklearn/model_selection/_validation.py:593: DataConversionWarning: A column-vector y was passed when a 1d array was expected. Please change the shape of y to (n_samples,), for example using ravel().\n",
      "  estimator.fit(X_train, y_train, **fit_params)\n",
      "/home/vicky90/anaconda3/envs/wafer_with_mlops/lib/python3.6/site-packages/sklearn/model_selection/_validation.py:593: DataConversionWarning: A column-vector y was passed when a 1d array was expected. Please change the shape of y to (n_samples,), for example using ravel().\n",
      "  estimator.fit(X_train, y_train, **fit_params)\n",
      "/home/vicky90/anaconda3/envs/wafer_with_mlops/lib/python3.6/site-packages/sklearn/model_selection/_validation.py:593: DataConversionWarning: A column-vector y was passed when a 1d array was expected. Please change the shape of y to (n_samples,), for example using ravel().\n",
      "  estimator.fit(X_train, y_train, **fit_params)\n",
      "/home/vicky90/anaconda3/envs/wafer_with_mlops/lib/python3.6/site-packages/sklearn/model_selection/_validation.py:593: DataConversionWarning: A column-vector y was passed when a 1d array was expected. Please change the shape of y to (n_samples,), for example using ravel().\n",
      "  estimator.fit(X_train, y_train, **fit_params)\n",
      "/home/vicky90/anaconda3/envs/wafer_with_mlops/lib/python3.6/site-packages/sklearn/model_selection/_validation.py:593: DataConversionWarning: A column-vector y was passed when a 1d array was expected. Please change the shape of y to (n_samples,), for example using ravel().\n",
      "  estimator.fit(X_train, y_train, **fit_params)\n",
      "/home/vicky90/anaconda3/envs/wafer_with_mlops/lib/python3.6/site-packages/sklearn/model_selection/_validation.py:593: DataConversionWarning: A column-vector y was passed when a 1d array was expected. Please change the shape of y to (n_samples,), for example using ravel().\n",
      "  estimator.fit(X_train, y_train, **fit_params)\n",
      "/home/vicky90/anaconda3/envs/wafer_with_mlops/lib/python3.6/site-packages/sklearn/model_selection/_validation.py:593: DataConversionWarning: A column-vector y was passed when a 1d array was expected. Please change the shape of y to (n_samples,), for example using ravel().\n",
      "  estimator.fit(X_train, y_train, **fit_params)\n",
      "/home/vicky90/anaconda3/envs/wafer_with_mlops/lib/python3.6/site-packages/sklearn/model_selection/_validation.py:593: DataConversionWarning: A column-vector y was passed when a 1d array was expected. Please change the shape of y to (n_samples,), for example using ravel().\n",
      "  estimator.fit(X_train, y_train, **fit_params)\n",
      "/home/vicky90/anaconda3/envs/wafer_with_mlops/lib/python3.6/site-packages/sklearn/model_selection/_validation.py:593: DataConversionWarning: A column-vector y was passed when a 1d array was expected. Please change the shape of y to (n_samples,), for example using ravel().\n",
      "  estimator.fit(X_train, y_train, **fit_params)\n",
      "/home/vicky90/anaconda3/envs/wafer_with_mlops/lib/python3.6/site-packages/sklearn/model_selection/_validation.py:593: DataConversionWarning: A column-vector y was passed when a 1d array was expected. Please change the shape of y to (n_samples,), for example using ravel().\n",
      "  estimator.fit(X_train, y_train, **fit_params)\n",
      "/home/vicky90/anaconda3/envs/wafer_with_mlops/lib/python3.6/site-packages/sklearn/model_selection/_validation.py:593: DataConversionWarning: A column-vector y was passed when a 1d array was expected. Please change the shape of y to (n_samples,), for example using ravel().\n",
      "  estimator.fit(X_train, y_train, **fit_params)\n",
      "/home/vicky90/anaconda3/envs/wafer_with_mlops/lib/python3.6/site-packages/sklearn/model_selection/_validation.py:593: DataConversionWarning: A column-vector y was passed when a 1d array was expected. Please change the shape of y to (n_samples,), for example using ravel().\n",
      "  estimator.fit(X_train, y_train, **fit_params)\n",
      "/home/vicky90/anaconda3/envs/wafer_with_mlops/lib/python3.6/site-packages/sklearn/model_selection/_validation.py:593: DataConversionWarning: A column-vector y was passed when a 1d array was expected. Please change the shape of y to (n_samples,), for example using ravel().\n",
      "  estimator.fit(X_train, y_train, **fit_params)\n",
      "/home/vicky90/anaconda3/envs/wafer_with_mlops/lib/python3.6/site-packages/sklearn/model_selection/_validation.py:593: DataConversionWarning: A column-vector y was passed when a 1d array was expected. Please change the shape of y to (n_samples,), for example using ravel().\n",
      "  estimator.fit(X_train, y_train, **fit_params)\n",
      "/home/vicky90/anaconda3/envs/wafer_with_mlops/lib/python3.6/site-packages/sklearn/model_selection/_validation.py:593: DataConversionWarning: A column-vector y was passed when a 1d array was expected. Please change the shape of y to (n_samples,), for example using ravel().\n",
      "  estimator.fit(X_train, y_train, **fit_params)\n",
      "/home/vicky90/anaconda3/envs/wafer_with_mlops/lib/python3.6/site-packages/sklearn/model_selection/_validation.py:593: DataConversionWarning: A column-vector y was passed when a 1d array was expected. Please change the shape of y to (n_samples,), for example using ravel().\n",
      "  estimator.fit(X_train, y_train, **fit_params)\n",
      "/home/vicky90/anaconda3/envs/wafer_with_mlops/lib/python3.6/site-packages/sklearn/model_selection/_validation.py:593: DataConversionWarning: A column-vector y was passed when a 1d array was expected. Please change the shape of y to (n_samples,), for example using ravel().\n",
      "  estimator.fit(X_train, y_train, **fit_params)\n",
      "/home/vicky90/anaconda3/envs/wafer_with_mlops/lib/python3.6/site-packages/sklearn/model_selection/_validation.py:593: DataConversionWarning: A column-vector y was passed when a 1d array was expected. Please change the shape of y to (n_samples,), for example using ravel().\n",
      "  estimator.fit(X_train, y_train, **fit_params)\n"
     ]
    },
    {
     "name": "stderr",
     "output_type": "stream",
     "text": [
      "/home/vicky90/anaconda3/envs/wafer_with_mlops/lib/python3.6/site-packages/sklearn/model_selection/_validation.py:593: DataConversionWarning: A column-vector y was passed when a 1d array was expected. Please change the shape of y to (n_samples,), for example using ravel().\n",
      "  estimator.fit(X_train, y_train, **fit_params)\n",
      "/home/vicky90/anaconda3/envs/wafer_with_mlops/lib/python3.6/site-packages/sklearn/model_selection/_validation.py:593: DataConversionWarning: A column-vector y was passed when a 1d array was expected. Please change the shape of y to (n_samples,), for example using ravel().\n",
      "  estimator.fit(X_train, y_train, **fit_params)\n",
      "/home/vicky90/anaconda3/envs/wafer_with_mlops/lib/python3.6/site-packages/sklearn/model_selection/_validation.py:593: DataConversionWarning: A column-vector y was passed when a 1d array was expected. Please change the shape of y to (n_samples,), for example using ravel().\n",
      "  estimator.fit(X_train, y_train, **fit_params)\n",
      "/home/vicky90/anaconda3/envs/wafer_with_mlops/lib/python3.6/site-packages/sklearn/model_selection/_validation.py:593: DataConversionWarning: A column-vector y was passed when a 1d array was expected. Please change the shape of y to (n_samples,), for example using ravel().\n",
      "  estimator.fit(X_train, y_train, **fit_params)\n",
      "/home/vicky90/anaconda3/envs/wafer_with_mlops/lib/python3.6/site-packages/sklearn/model_selection/_validation.py:593: DataConversionWarning: A column-vector y was passed when a 1d array was expected. Please change the shape of y to (n_samples,), for example using ravel().\n",
      "  estimator.fit(X_train, y_train, **fit_params)\n",
      "/home/vicky90/anaconda3/envs/wafer_with_mlops/lib/python3.6/site-packages/sklearn/model_selection/_validation.py:593: DataConversionWarning: A column-vector y was passed when a 1d array was expected. Please change the shape of y to (n_samples,), for example using ravel().\n",
      "  estimator.fit(X_train, y_train, **fit_params)\n",
      "/home/vicky90/anaconda3/envs/wafer_with_mlops/lib/python3.6/site-packages/sklearn/model_selection/_validation.py:593: DataConversionWarning: A column-vector y was passed when a 1d array was expected. Please change the shape of y to (n_samples,), for example using ravel().\n",
      "  estimator.fit(X_train, y_train, **fit_params)\n",
      "/home/vicky90/anaconda3/envs/wafer_with_mlops/lib/python3.6/site-packages/sklearn/model_selection/_validation.py:593: DataConversionWarning: A column-vector y was passed when a 1d array was expected. Please change the shape of y to (n_samples,), for example using ravel().\n",
      "  estimator.fit(X_train, y_train, **fit_params)\n",
      "/home/vicky90/anaconda3/envs/wafer_with_mlops/lib/python3.6/site-packages/sklearn/model_selection/_validation.py:593: DataConversionWarning: A column-vector y was passed when a 1d array was expected. Please change the shape of y to (n_samples,), for example using ravel().\n",
      "  estimator.fit(X_train, y_train, **fit_params)\n",
      "/home/vicky90/anaconda3/envs/wafer_with_mlops/lib/python3.6/site-packages/sklearn/model_selection/_validation.py:593: DataConversionWarning: A column-vector y was passed when a 1d array was expected. Please change the shape of y to (n_samples,), for example using ravel().\n",
      "  estimator.fit(X_train, y_train, **fit_params)\n",
      "/home/vicky90/anaconda3/envs/wafer_with_mlops/lib/python3.6/site-packages/sklearn/model_selection/_validation.py:593: DataConversionWarning: A column-vector y was passed when a 1d array was expected. Please change the shape of y to (n_samples,), for example using ravel().\n",
      "  estimator.fit(X_train, y_train, **fit_params)\n",
      "/home/vicky90/anaconda3/envs/wafer_with_mlops/lib/python3.6/site-packages/sklearn/model_selection/_validation.py:593: DataConversionWarning: A column-vector y was passed when a 1d array was expected. Please change the shape of y to (n_samples,), for example using ravel().\n",
      "  estimator.fit(X_train, y_train, **fit_params)\n",
      "/home/vicky90/anaconda3/envs/wafer_with_mlops/lib/python3.6/site-packages/sklearn/model_selection/_validation.py:593: DataConversionWarning: A column-vector y was passed when a 1d array was expected. Please change the shape of y to (n_samples,), for example using ravel().\n",
      "  estimator.fit(X_train, y_train, **fit_params)\n",
      "/home/vicky90/anaconda3/envs/wafer_with_mlops/lib/python3.6/site-packages/sklearn/model_selection/_validation.py:593: DataConversionWarning: A column-vector y was passed when a 1d array was expected. Please change the shape of y to (n_samples,), for example using ravel().\n",
      "  estimator.fit(X_train, y_train, **fit_params)\n",
      "/home/vicky90/anaconda3/envs/wafer_with_mlops/lib/python3.6/site-packages/sklearn/model_selection/_validation.py:593: DataConversionWarning: A column-vector y was passed when a 1d array was expected. Please change the shape of y to (n_samples,), for example using ravel().\n",
      "  estimator.fit(X_train, y_train, **fit_params)\n",
      "/home/vicky90/anaconda3/envs/wafer_with_mlops/lib/python3.6/site-packages/sklearn/model_selection/_validation.py:593: DataConversionWarning: A column-vector y was passed when a 1d array was expected. Please change the shape of y to (n_samples,), for example using ravel().\n",
      "  estimator.fit(X_train, y_train, **fit_params)\n",
      "/home/vicky90/anaconda3/envs/wafer_with_mlops/lib/python3.6/site-packages/sklearn/model_selection/_validation.py:593: DataConversionWarning: A column-vector y was passed when a 1d array was expected. Please change the shape of y to (n_samples,), for example using ravel().\n",
      "  estimator.fit(X_train, y_train, **fit_params)\n",
      "/home/vicky90/anaconda3/envs/wafer_with_mlops/lib/python3.6/site-packages/sklearn/model_selection/_validation.py:593: DataConversionWarning: A column-vector y was passed when a 1d array was expected. Please change the shape of y to (n_samples,), for example using ravel().\n",
      "  estimator.fit(X_train, y_train, **fit_params)\n",
      "/home/vicky90/anaconda3/envs/wafer_with_mlops/lib/python3.6/site-packages/sklearn/model_selection/_validation.py:593: DataConversionWarning: A column-vector y was passed when a 1d array was expected. Please change the shape of y to (n_samples,), for example using ravel().\n",
      "  estimator.fit(X_train, y_train, **fit_params)\n",
      "/home/vicky90/anaconda3/envs/wafer_with_mlops/lib/python3.6/site-packages/sklearn/model_selection/_validation.py:593: DataConversionWarning: A column-vector y was passed when a 1d array was expected. Please change the shape of y to (n_samples,), for example using ravel().\n",
      "  estimator.fit(X_train, y_train, **fit_params)\n",
      "/home/vicky90/anaconda3/envs/wafer_with_mlops/lib/python3.6/site-packages/sklearn/model_selection/_validation.py:593: DataConversionWarning: A column-vector y was passed when a 1d array was expected. Please change the shape of y to (n_samples,), for example using ravel().\n",
      "  estimator.fit(X_train, y_train, **fit_params)\n",
      "/home/vicky90/anaconda3/envs/wafer_with_mlops/lib/python3.6/site-packages/sklearn/model_selection/_validation.py:593: DataConversionWarning: A column-vector y was passed when a 1d array was expected. Please change the shape of y to (n_samples,), for example using ravel().\n",
      "  estimator.fit(X_train, y_train, **fit_params)\n",
      "/home/vicky90/anaconda3/envs/wafer_with_mlops/lib/python3.6/site-packages/sklearn/model_selection/_validation.py:593: DataConversionWarning: A column-vector y was passed when a 1d array was expected. Please change the shape of y to (n_samples,), for example using ravel().\n",
      "  estimator.fit(X_train, y_train, **fit_params)\n",
      "/home/vicky90/anaconda3/envs/wafer_with_mlops/lib/python3.6/site-packages/sklearn/model_selection/_validation.py:593: DataConversionWarning: A column-vector y was passed when a 1d array was expected. Please change the shape of y to (n_samples,), for example using ravel().\n",
      "  estimator.fit(X_train, y_train, **fit_params)\n",
      "/home/vicky90/anaconda3/envs/wafer_with_mlops/lib/python3.6/site-packages/sklearn/model_selection/_validation.py:593: DataConversionWarning: A column-vector y was passed when a 1d array was expected. Please change the shape of y to (n_samples,), for example using ravel().\n",
      "  estimator.fit(X_train, y_train, **fit_params)\n",
      "/home/vicky90/anaconda3/envs/wafer_with_mlops/lib/python3.6/site-packages/sklearn/model_selection/_validation.py:593: DataConversionWarning: A column-vector y was passed when a 1d array was expected. Please change the shape of y to (n_samples,), for example using ravel().\n",
      "  estimator.fit(X_train, y_train, **fit_params)\n"
     ]
    },
    {
     "name": "stderr",
     "output_type": "stream",
     "text": [
      "/home/vicky90/anaconda3/envs/wafer_with_mlops/lib/python3.6/site-packages/sklearn/model_selection/_validation.py:593: DataConversionWarning: A column-vector y was passed when a 1d array was expected. Please change the shape of y to (n_samples,), for example using ravel().\n",
      "  estimator.fit(X_train, y_train, **fit_params)\n",
      "/home/vicky90/anaconda3/envs/wafer_with_mlops/lib/python3.6/site-packages/sklearn/model_selection/_validation.py:593: DataConversionWarning: A column-vector y was passed when a 1d array was expected. Please change the shape of y to (n_samples,), for example using ravel().\n",
      "  estimator.fit(X_train, y_train, **fit_params)\n",
      "/home/vicky90/anaconda3/envs/wafer_with_mlops/lib/python3.6/site-packages/sklearn/model_selection/_validation.py:593: DataConversionWarning: A column-vector y was passed when a 1d array was expected. Please change the shape of y to (n_samples,), for example using ravel().\n",
      "  estimator.fit(X_train, y_train, **fit_params)\n",
      "/home/vicky90/anaconda3/envs/wafer_with_mlops/lib/python3.6/site-packages/sklearn/model_selection/_validation.py:593: DataConversionWarning: A column-vector y was passed when a 1d array was expected. Please change the shape of y to (n_samples,), for example using ravel().\n",
      "  estimator.fit(X_train, y_train, **fit_params)\n",
      "/home/vicky90/anaconda3/envs/wafer_with_mlops/lib/python3.6/site-packages/sklearn/model_selection/_validation.py:593: DataConversionWarning: A column-vector y was passed when a 1d array was expected. Please change the shape of y to (n_samples,), for example using ravel().\n",
      "  estimator.fit(X_train, y_train, **fit_params)\n",
      "/home/vicky90/anaconda3/envs/wafer_with_mlops/lib/python3.6/site-packages/sklearn/model_selection/_validation.py:593: DataConversionWarning: A column-vector y was passed when a 1d array was expected. Please change the shape of y to (n_samples,), for example using ravel().\n",
      "  estimator.fit(X_train, y_train, **fit_params)\n",
      "/home/vicky90/anaconda3/envs/wafer_with_mlops/lib/python3.6/site-packages/sklearn/model_selection/_validation.py:593: DataConversionWarning: A column-vector y was passed when a 1d array was expected. Please change the shape of y to (n_samples,), for example using ravel().\n",
      "  estimator.fit(X_train, y_train, **fit_params)\n",
      "/home/vicky90/anaconda3/envs/wafer_with_mlops/lib/python3.6/site-packages/sklearn/model_selection/_validation.py:593: DataConversionWarning: A column-vector y was passed when a 1d array was expected. Please change the shape of y to (n_samples,), for example using ravel().\n",
      "  estimator.fit(X_train, y_train, **fit_params)\n",
      "/home/vicky90/anaconda3/envs/wafer_with_mlops/lib/python3.6/site-packages/sklearn/model_selection/_validation.py:593: DataConversionWarning: A column-vector y was passed when a 1d array was expected. Please change the shape of y to (n_samples,), for example using ravel().\n",
      "  estimator.fit(X_train, y_train, **fit_params)\n",
      "/home/vicky90/anaconda3/envs/wafer_with_mlops/lib/python3.6/site-packages/sklearn/model_selection/_validation.py:593: DataConversionWarning: A column-vector y was passed when a 1d array was expected. Please change the shape of y to (n_samples,), for example using ravel().\n",
      "  estimator.fit(X_train, y_train, **fit_params)\n",
      "/home/vicky90/anaconda3/envs/wafer_with_mlops/lib/python3.6/site-packages/sklearn/model_selection/_validation.py:593: DataConversionWarning: A column-vector y was passed when a 1d array was expected. Please change the shape of y to (n_samples,), for example using ravel().\n",
      "  estimator.fit(X_train, y_train, **fit_params)\n",
      "/home/vicky90/anaconda3/envs/wafer_with_mlops/lib/python3.6/site-packages/sklearn/model_selection/_validation.py:593: DataConversionWarning: A column-vector y was passed when a 1d array was expected. Please change the shape of y to (n_samples,), for example using ravel().\n",
      "  estimator.fit(X_train, y_train, **fit_params)\n",
      "/home/vicky90/anaconda3/envs/wafer_with_mlops/lib/python3.6/site-packages/sklearn/model_selection/_validation.py:593: DataConversionWarning: A column-vector y was passed when a 1d array was expected. Please change the shape of y to (n_samples,), for example using ravel().\n",
      "  estimator.fit(X_train, y_train, **fit_params)\n",
      "/home/vicky90/anaconda3/envs/wafer_with_mlops/lib/python3.6/site-packages/sklearn/model_selection/_validation.py:593: DataConversionWarning: A column-vector y was passed when a 1d array was expected. Please change the shape of y to (n_samples,), for example using ravel().\n",
      "  estimator.fit(X_train, y_train, **fit_params)\n",
      "/home/vicky90/anaconda3/envs/wafer_with_mlops/lib/python3.6/site-packages/sklearn/model_selection/_search.py:880: DataConversionWarning: A column-vector y was passed when a 1d array was expected. Please change the shape of y to (n_samples,), for example using ravel().\n",
      "  self.best_estimator_.fit(X, y, **fit_params)\n"
     ]
    }
   ],
   "source": [
    "rfc=RandomForestClassifier()\n",
    "param_grid = { \n",
    "        'n_estimators': [200, 500],\n",
    "        'max_features': ['auto', 'sqrt', 'log2'],\n",
    "        'max_depth' : [4,5,6,7,8],\n",
    "        'criterion' :['gini', 'entropy']}\n",
    "grid = GridSearchCV(estimator=rfc, param_grid=param_grid, cv= 5)\n",
    "grid.fit(X_train_ns, y_train_ns)\n",
    "criterion = grid.best_params_['criterion']\n",
    "max_depth = grid.best_params_['max_depth']\n",
    "max_features = grid.best_params_['max_features']\n",
    "n_estimators =grid.best_params_['n_estimators']\n",
    "\n",
    "        #creating a new model with the best parameters\n",
    "clf = RandomForestClassifier(n_estimators=n_estimators, criterion=criterion,\n",
    "                                    max_depth=max_depth, max_features=max_features)"
   ]
  },
  {
   "cell_type": "code",
   "execution_count": 205,
   "id": "1402ee00",
   "metadata": {},
   "outputs": [
    {
     "name": "stderr",
     "output_type": "stream",
     "text": [
      "/home/vicky90/anaconda3/envs/wafer_with_mlops/lib/python3.6/site-packages/ipykernel_launcher.py:1: DataConversionWarning: A column-vector y was passed when a 1d array was expected. Please change the shape of y to (n_samples,), for example using ravel().\n",
      "  \"\"\"Entry point for launching an IPython kernel.\n"
     ]
    }
   ],
   "source": [
    "clf.fit(X_train_ns,y_train_ns)\n",
    "rs_pred=clf.predict(x_test)"
   ]
  },
  {
   "cell_type": "code",
   "execution_count": 206,
   "id": "282c7294",
   "metadata": {},
   "outputs": [
    {
     "name": "stdout",
     "output_type": "stream",
     "text": [
      "              precision    recall  f1-score   support\n",
      "\n",
      "          -1       0.96      1.00      0.98       173\n",
      "           1       0.00      0.00      0.00         8\n",
      "\n",
      "    accuracy                           0.96       181\n",
      "   macro avg       0.48      0.50      0.49       181\n",
      "weighted avg       0.91      0.96      0.93       181\n",
      "\n"
     ]
    },
    {
     "name": "stderr",
     "output_type": "stream",
     "text": [
      "/home/vicky90/anaconda3/envs/wafer_with_mlops/lib/python3.6/site-packages/sklearn/metrics/_classification.py:1245: UndefinedMetricWarning: Precision and F-score are ill-defined and being set to 0.0 in labels with no predicted samples. Use `zero_division` parameter to control this behavior.\n",
      "  _warn_prf(average, modifier, msg_start, len(result))\n",
      "/home/vicky90/anaconda3/envs/wafer_with_mlops/lib/python3.6/site-packages/sklearn/metrics/_classification.py:1245: UndefinedMetricWarning: Precision and F-score are ill-defined and being set to 0.0 in labels with no predicted samples. Use `zero_division` parameter to control this behavior.\n",
      "  _warn_prf(average, modifier, msg_start, len(result))\n",
      "/home/vicky90/anaconda3/envs/wafer_with_mlops/lib/python3.6/site-packages/sklearn/metrics/_classification.py:1245: UndefinedMetricWarning: Precision and F-score are ill-defined and being set to 0.0 in labels with no predicted samples. Use `zero_division` parameter to control this behavior.\n",
      "  _warn_prf(average, modifier, msg_start, len(result))\n"
     ]
    }
   ],
   "source": [
    "print(classification_report(y_test,rs_pred))"
   ]
  },
  {
   "cell_type": "code",
   "execution_count": 197,
   "id": "731e84f4",
   "metadata": {},
   "outputs": [
    {
     "data": {
      "text/plain": [
       "-1    520\n",
       " 1     21\n",
       "Name: target, dtype: int64"
      ]
     },
     "execution_count": 197,
     "metadata": {},
     "output_type": "execute_result"
    }
   ],
   "source": [
    "y['target'].value_counts()"
   ]
  },
  {
   "cell_type": "code",
   "execution_count": 198,
   "id": "d84b70e0",
   "metadata": {},
   "outputs": [
    {
     "data": {
      "text/plain": [
       "Counter({-1: 520, 1: 21})"
      ]
     },
     "execution_count": 198,
     "metadata": {},
     "output_type": "execute_result"
    }
   ],
   "source": [
    "dic=Counter(y['target'])\n",
    "dic"
   ]
  },
  {
   "cell_type": "code",
   "execution_count": 199,
   "id": "3137a4b3",
   "metadata": {},
   "outputs": [],
   "source": [
    "val=list(dic.values())"
   ]
  },
  {
   "cell_type": "code",
   "execution_count": 175,
   "id": "fd52bfc5",
   "metadata": {},
   "outputs": [
    {
     "data": {
      "text/plain": [
       "True"
      ]
     },
     "execution_count": 175,
     "metadata": {},
     "output_type": "execute_result"
    }
   ],
   "source": [
    "if val[0]<val[1]:\n",
    "    percent=(val[0]/val[1])*100\n",
    "else:\n",
    "    percent=(val[1]/val[0])*100\n",
    "percent<30"
   ]
  },
  {
   "cell_type": "code",
   "execution_count": 176,
   "id": "6c48d7a5",
   "metadata": {},
   "outputs": [
    {
     "data": {
      "text/plain": [
       "4.038461538461538"
      ]
     },
     "execution_count": 176,
     "metadata": {},
     "output_type": "execute_result"
    }
   ],
   "source": [
    "percent"
   ]
  },
  {
   "cell_type": "code",
   "execution_count": 177,
   "id": "cfb02136",
   "metadata": {},
   "outputs": [
    {
     "data": {
      "text/plain": [
       "(541, 1)"
      ]
     },
     "execution_count": 177,
     "metadata": {},
     "output_type": "execute_result"
    }
   ],
   "source": [
    "y.shape"
   ]
  },
  {
   "cell_type": "code",
   "execution_count": 178,
   "id": "29f1f0ba",
   "metadata": {},
   "outputs": [
    {
     "data": {
      "text/html": [
       "<div>\n",
       "<style scoped>\n",
       "    .dataframe tbody tr th:only-of-type {\n",
       "        vertical-align: middle;\n",
       "    }\n",
       "\n",
       "    .dataframe tbody tr th {\n",
       "        vertical-align: top;\n",
       "    }\n",
       "\n",
       "    .dataframe thead th {\n",
       "        text-align: right;\n",
       "    }\n",
       "</style>\n",
       "<table border=\"1\" class=\"dataframe\">\n",
       "  <thead>\n",
       "    <tr style=\"text-align: right;\">\n",
       "      <th></th>\n",
       "      <th>target</th>\n",
       "    </tr>\n",
       "  </thead>\n",
       "  <tbody>\n",
       "    <tr>\n",
       "      <th>0</th>\n",
       "      <td>-1</td>\n",
       "    </tr>\n",
       "    <tr>\n",
       "      <th>1</th>\n",
       "      <td>-1</td>\n",
       "    </tr>\n",
       "    <tr>\n",
       "      <th>2</th>\n",
       "      <td>-1</td>\n",
       "    </tr>\n",
       "    <tr>\n",
       "      <th>3</th>\n",
       "      <td>-1</td>\n",
       "    </tr>\n",
       "    <tr>\n",
       "      <th>4</th>\n",
       "      <td>-1</td>\n",
       "    </tr>\n",
       "  </tbody>\n",
       "</table>\n",
       "</div>"
      ],
      "text/plain": [
       "   target\n",
       "0      -1\n",
       "1      -1\n",
       "2      -1\n",
       "3      -1\n",
       "4      -1"
      ]
     },
     "execution_count": 178,
     "metadata": {},
     "output_type": "execute_result"
    }
   ],
   "source": [
    "y.head()"
   ]
  },
  {
   "cell_type": "code",
   "execution_count": 179,
   "id": "0e0a4c96",
   "metadata": {},
   "outputs": [],
   "source": [
    "x_train,x_test,y_train,y_test=train_test_split(x,y,test_size=1/3,random_state=786)"
   ]
  },
  {
   "cell_type": "code",
   "execution_count": 180,
   "id": "e781b6f7",
   "metadata": {},
   "outputs": [
    {
     "data": {
      "text/plain": [
       "-1    347\n",
       " 1     13\n",
       "Name: target, dtype: int64"
      ]
     },
     "execution_count": 180,
     "metadata": {},
     "output_type": "execute_result"
    }
   ],
   "source": [
    "y_train['target'].value_counts()"
   ]
  },
  {
   "cell_type": "code",
   "execution_count": 181,
   "id": "1bc81171",
   "metadata": {},
   "outputs": [
    {
     "data": {
      "text/plain": [
       " 1    347\n",
       "-1    347\n",
       "Name: target, dtype: int64"
      ]
     },
     "execution_count": 181,
     "metadata": {},
     "output_type": "execute_result"
    }
   ],
   "source": [
    "y_train_ns['target'].value_counts()"
   ]
  },
  {
   "cell_type": "code",
   "execution_count": 182,
   "id": "c317b87b",
   "metadata": {},
   "outputs": [
    {
     "name": "stderr",
     "output_type": "stream",
     "text": [
      "/home/vicky90/anaconda3/envs/wafer_with_mlops/lib/python3.6/site-packages/xgboost/sklearn.py:1146: UserWarning: The use of label encoder in XGBClassifier is deprecated and will be removed in a future release. To remove this warning, do the following: 1) Pass option use_label_encoder=False when constructing XGBClassifier object; and 2) Encode your labels (y) as integers starting with 0, i.e. 0, 1, 2, ..., [num_class - 1].\n",
      "  warnings.warn(label_encoder_deprecation_msg, UserWarning)\n",
      "/home/vicky90/anaconda3/envs/wafer_with_mlops/lib/python3.6/site-packages/sklearn/utils/validation.py:63: DataConversionWarning: A column-vector y was passed when a 1d array was expected. Please change the shape of y to (n_samples, ), for example using ravel().\n",
      "  return f(*args, **kwargs)\n"
     ]
    },
    {
     "name": "stdout",
     "output_type": "stream",
     "text": [
      "[22:38:40] WARNING: ../src/learner.cc:1095: Starting in XGBoost 1.3.0, the default evaluation metric used with the objective 'binary:logistic' was changed from 'error' to 'logloss'. Explicitly set eval_metric if you'd like to restore the old behavior.\n"
     ]
    },
    {
     "name": "stderr",
     "output_type": "stream",
     "text": [
      "/home/vicky90/anaconda3/envs/wafer_with_mlops/lib/python3.6/site-packages/xgboost/data.py:115: UserWarning: Use subset (sliced data) of np.ndarray is not recommended because it will generate extra copies and increase memory consumption\n",
      "  \"memory consumption\")\n"
     ]
    }
   ],
   "source": [
    "xg=xgboost.XGBClassifier()\n",
    "xg.fit(X_train_ns,y_train_ns)\n",
    "xg_pred=xg.predict(x_test)"
   ]
  },
  {
   "cell_type": "code",
   "execution_count": 183,
   "id": "d2feae93",
   "metadata": {},
   "outputs": [],
   "source": [
    "from sklearn.metrics import accuracy_score,roc_auc_score, classification_report\n",
    "score_xg=accuracy_score(y_test,xg_pred)"
   ]
  },
  {
   "cell_type": "code",
   "execution_count": 184,
   "id": "13c695f0",
   "metadata": {},
   "outputs": [
    {
     "data": {
      "text/plain": [
       "0.9502762430939227"
      ]
     },
     "execution_count": 184,
     "metadata": {},
     "output_type": "execute_result"
    }
   ],
   "source": [
    "score_xg"
   ]
  },
  {
   "cell_type": "code",
   "execution_count": 185,
   "id": "40872fd7",
   "metadata": {},
   "outputs": [],
   "source": [
    "from sklearn.metrics import accuracy_score,roc_auc_score\n",
    "score_xg=roc_auc_score(y_test,xg_pred)"
   ]
  },
  {
   "cell_type": "code",
   "execution_count": 186,
   "id": "50a13650",
   "metadata": {},
   "outputs": [
    {
     "data": {
      "text/plain": [
       "0.49710982658959535"
      ]
     },
     "execution_count": 186,
     "metadata": {},
     "output_type": "execute_result"
    }
   ],
   "source": [
    "score_xg"
   ]
  },
  {
   "cell_type": "code",
   "execution_count": 135,
   "id": "4ed14961",
   "metadata": {},
   "outputs": [
    {
     "data": {
      "text/plain": [
       "-1    173\n",
       " 1      8\n",
       "Name: target, dtype: int64"
      ]
     },
     "execution_count": 135,
     "metadata": {},
     "output_type": "execute_result"
    }
   ],
   "source": [
    "y_test['target'].value_counts()"
   ]
  },
  {
   "cell_type": "code",
   "execution_count": 136,
   "id": "fb3c8fe0",
   "metadata": {},
   "outputs": [
    {
     "data": {
      "text/plain": [
       "array([-1,  1])"
      ]
     },
     "execution_count": 136,
     "metadata": {},
     "output_type": "execute_result"
    }
   ],
   "source": [
    "y_test['target'].unique()"
   ]
  },
  {
   "cell_type": "code",
   "execution_count": 137,
   "id": "2006b9c5",
   "metadata": {},
   "outputs": [
    {
     "data": {
      "text/plain": [
       "array([ 1, -1,  1, -1, -1, -1,  1, -1, -1,  1,  1,  1,  1, -1,  1,  1,  1,\n",
       "       -1,  1,  1,  1, -1,  1,  1,  1, -1,  1,  1, -1,  1,  1, -1,  1,  1,\n",
       "        1,  1,  1, -1,  1, -1,  1, -1,  1,  1,  1,  1,  1, -1, -1, -1, -1,\n",
       "        1, -1,  1, -1, -1,  1, -1, -1, -1, -1, -1,  1,  1, -1,  1, -1, -1,\n",
       "        1,  1, -1, -1,  1, -1, -1,  1,  1,  1,  1,  1, -1,  1,  1,  1, -1,\n",
       "       -1, -1,  1,  1, -1, -1, -1,  1,  1, -1, -1, -1,  1, -1,  1,  1,  1,\n",
       "       -1,  1, -1, -1, -1, -1, -1, -1,  1, -1,  1, -1, -1,  1, -1, -1,  1,\n",
       "        1, -1, -1,  1,  1,  1,  1, -1,  1,  1, -1, -1, -1,  1,  1,  1, -1,\n",
       "        1,  1, -1, -1, -1,  1,  1,  1,  1,  1,  1,  1,  1,  1, -1,  1,  1,\n",
       "        1, -1, -1, -1,  1,  1, -1,  1,  1, -1,  1, -1, -1,  1, -1, -1,  1,\n",
       "        1,  1, -1, -1,  1, -1, -1, -1,  1,  1, -1])"
      ]
     },
     "execution_count": 137,
     "metadata": {},
     "output_type": "execute_result"
    }
   ],
   "source": [
    "xg_pred"
   ]
  },
  {
   "cell_type": "code",
   "execution_count": 138,
   "id": "c01c84dd",
   "metadata": {},
   "outputs": [
    {
     "name": "stdout",
     "output_type": "stream",
     "text": [
      "              precision    recall  f1-score   support\n",
      "\n",
      "          -1       0.95      0.46      0.62       173\n",
      "           1       0.04      0.50      0.08         8\n",
      "\n",
      "    accuracy                           0.46       181\n",
      "   macro avg       0.50      0.48      0.35       181\n",
      "weighted avg       0.91      0.46      0.59       181\n",
      "\n"
     ]
    }
   ],
   "source": [
    "print(classification_report(y_test,xg_pred))"
   ]
  },
  {
   "cell_type": "code",
   "execution_count": 211,
   "id": "03c443cd",
   "metadata": {},
   "outputs": [],
   "source": [
    "df=pd.read_csv('TrainingFileFromDB/trainingInput.csv')"
   ]
  },
  {
   "cell_type": "code",
   "execution_count": 212,
   "id": "183df7fe",
   "metadata": {},
   "outputs": [
    {
     "data": {
      "text/html": [
       "<div>\n",
       "<style scoped>\n",
       "    .dataframe tbody tr th:only-of-type {\n",
       "        vertical-align: middle;\n",
       "    }\n",
       "\n",
       "    .dataframe tbody tr th {\n",
       "        vertical-align: top;\n",
       "    }\n",
       "\n",
       "    .dataframe thead th {\n",
       "        text-align: right;\n",
       "    }\n",
       "</style>\n",
       "<table border=\"1\" class=\"dataframe\">\n",
       "  <thead>\n",
       "    <tr style=\"text-align: right;\">\n",
       "      <th></th>\n",
       "      <th>Wafer</th>\n",
       "      <th>Sensor - 1</th>\n",
       "      <th>Sensor - 2</th>\n",
       "      <th>Sensor - 3</th>\n",
       "      <th>Sensor - 4</th>\n",
       "      <th>Sensor - 5</th>\n",
       "      <th>Sensor - 6</th>\n",
       "      <th>Sensor - 7</th>\n",
       "      <th>Sensor - 8</th>\n",
       "      <th>Sensor - 9</th>\n",
       "      <th>...</th>\n",
       "      <th>Sensor - 582</th>\n",
       "      <th>Sensor - 583</th>\n",
       "      <th>Sensor - 584</th>\n",
       "      <th>Sensor - 585</th>\n",
       "      <th>Sensor - 586</th>\n",
       "      <th>Sensor - 587</th>\n",
       "      <th>Sensor - 588</th>\n",
       "      <th>Sensor - 589</th>\n",
       "      <th>Sensor - 590</th>\n",
       "      <th>Output</th>\n",
       "    </tr>\n",
       "  </thead>\n",
       "  <tbody>\n",
       "    <tr>\n",
       "      <th>0</th>\n",
       "      <td>1201</td>\n",
       "      <td>3045.98</td>\n",
       "      <td>2544.85</td>\n",
       "      <td>2253.3444</td>\n",
       "      <td>1873.8678</td>\n",
       "      <td>1.1691</td>\n",
       "      <td>100.0</td>\n",
       "      <td>94.9722</td>\n",
       "      <td>0.1210</td>\n",
       "      <td>1.4752</td>\n",
       "      <td>...</td>\n",
       "      <td>NaN</td>\n",
       "      <td>0.4948</td>\n",
       "      <td>0.0123</td>\n",
       "      <td>0.0033</td>\n",
       "      <td>2.4804</td>\n",
       "      <td>0.0291</td>\n",
       "      <td>0.0102</td>\n",
       "      <td>0.0033</td>\n",
       "      <td>35.0279</td>\n",
       "      <td>-1</td>\n",
       "    </tr>\n",
       "    <tr>\n",
       "      <th>1</th>\n",
       "      <td>1202</td>\n",
       "      <td>3151.98</td>\n",
       "      <td>2563.75</td>\n",
       "      <td>2175.2556</td>\n",
       "      <td>1022.1660</td>\n",
       "      <td>1.2833</td>\n",
       "      <td>100.0</td>\n",
       "      <td>100.6222</td>\n",
       "      <td>0.1250</td>\n",
       "      <td>1.4536</td>\n",
       "      <td>...</td>\n",
       "      <td>NaN</td>\n",
       "      <td>0.5063</td>\n",
       "      <td>0.0113</td>\n",
       "      <td>0.0031</td>\n",
       "      <td>2.2284</td>\n",
       "      <td>0.0291</td>\n",
       "      <td>0.0102</td>\n",
       "      <td>0.0033</td>\n",
       "      <td>35.0279</td>\n",
       "      <td>-1</td>\n",
       "    </tr>\n",
       "    <tr>\n",
       "      <th>2</th>\n",
       "      <td>1203</td>\n",
       "      <td>3071.18</td>\n",
       "      <td>2489.86</td>\n",
       "      <td>2195.3000</td>\n",
       "      <td>1151.8233</td>\n",
       "      <td>0.9220</td>\n",
       "      <td>100.0</td>\n",
       "      <td>103.5467</td>\n",
       "      <td>0.1232</td>\n",
       "      <td>1.4826</td>\n",
       "      <td>...</td>\n",
       "      <td>NaN</td>\n",
       "      <td>0.5033</td>\n",
       "      <td>0.0112</td>\n",
       "      <td>0.0029</td>\n",
       "      <td>2.2320</td>\n",
       "      <td>0.0291</td>\n",
       "      <td>0.0102</td>\n",
       "      <td>0.0033</td>\n",
       "      <td>35.0279</td>\n",
       "      <td>-1</td>\n",
       "    </tr>\n",
       "    <tr>\n",
       "      <th>3</th>\n",
       "      <td>1204</td>\n",
       "      <td>2958.46</td>\n",
       "      <td>2523.78</td>\n",
       "      <td>2171.8556</td>\n",
       "      <td>1156.6018</td>\n",
       "      <td>1.4025</td>\n",
       "      <td>100.0</td>\n",
       "      <td>100.1367</td>\n",
       "      <td>0.1243</td>\n",
       "      <td>1.4645</td>\n",
       "      <td>...</td>\n",
       "      <td>NaN</td>\n",
       "      <td>0.4954</td>\n",
       "      <td>0.0136</td>\n",
       "      <td>0.0033</td>\n",
       "      <td>2.7511</td>\n",
       "      <td>0.0291</td>\n",
       "      <td>0.0102</td>\n",
       "      <td>0.0033</td>\n",
       "      <td>35.0279</td>\n",
       "      <td>-1</td>\n",
       "    </tr>\n",
       "    <tr>\n",
       "      <th>4</th>\n",
       "      <td>1205</td>\n",
       "      <td>3196.21</td>\n",
       "      <td>2413.39</td>\n",
       "      <td>2255.5222</td>\n",
       "      <td>1763.0739</td>\n",
       "      <td>1.2226</td>\n",
       "      <td>100.0</td>\n",
       "      <td>101.5878</td>\n",
       "      <td>0.1200</td>\n",
       "      <td>1.4845</td>\n",
       "      <td>...</td>\n",
       "      <td>353.8319</td>\n",
       "      <td>0.5058</td>\n",
       "      <td>0.0094</td>\n",
       "      <td>0.0026</td>\n",
       "      <td>1.8673</td>\n",
       "      <td>0.0053</td>\n",
       "      <td>0.0188</td>\n",
       "      <td>0.0057</td>\n",
       "      <td>353.8319</td>\n",
       "      <td>-1</td>\n",
       "    </tr>\n",
       "  </tbody>\n",
       "</table>\n",
       "<p>5 rows × 592 columns</p>\n",
       "</div>"
      ],
      "text/plain": [
       "   Wafer  Sensor - 1  Sensor - 2  Sensor - 3  Sensor - 4  Sensor - 5  \\\n",
       "0   1201     3045.98     2544.85   2253.3444   1873.8678      1.1691   \n",
       "1   1202     3151.98     2563.75   2175.2556   1022.1660      1.2833   \n",
       "2   1203     3071.18     2489.86   2195.3000   1151.8233      0.9220   \n",
       "3   1204     2958.46     2523.78   2171.8556   1156.6018      1.4025   \n",
       "4   1205     3196.21     2413.39   2255.5222   1763.0739      1.2226   \n",
       "\n",
       "   Sensor - 6  Sensor - 7  Sensor - 8  Sensor - 9  ...  Sensor - 582  \\\n",
       "0       100.0     94.9722      0.1210      1.4752  ...           NaN   \n",
       "1       100.0    100.6222      0.1250      1.4536  ...           NaN   \n",
       "2       100.0    103.5467      0.1232      1.4826  ...           NaN   \n",
       "3       100.0    100.1367      0.1243      1.4645  ...           NaN   \n",
       "4       100.0    101.5878      0.1200      1.4845  ...      353.8319   \n",
       "\n",
       "   Sensor - 583  Sensor - 584  Sensor - 585  Sensor - 586  Sensor - 587  \\\n",
       "0        0.4948        0.0123        0.0033        2.4804        0.0291   \n",
       "1        0.5063        0.0113        0.0031        2.2284        0.0291   \n",
       "2        0.5033        0.0112        0.0029        2.2320        0.0291   \n",
       "3        0.4954        0.0136        0.0033        2.7511        0.0291   \n",
       "4        0.5058        0.0094        0.0026        1.8673        0.0053   \n",
       "\n",
       "   Sensor - 588  Sensor - 589  Sensor - 590  Output  \n",
       "0        0.0102        0.0033       35.0279      -1  \n",
       "1        0.0102        0.0033       35.0279      -1  \n",
       "2        0.0102        0.0033       35.0279      -1  \n",
       "3        0.0102        0.0033       35.0279      -1  \n",
       "4        0.0188        0.0057      353.8319      -1  \n",
       "\n",
       "[5 rows x 592 columns]"
      ]
     },
     "execution_count": 212,
     "metadata": {},
     "output_type": "execute_result"
    }
   ],
   "source": [
    "df.head()"
   ]
  },
  {
   "cell_type": "code",
   "execution_count": 213,
   "id": "61ad5bfa",
   "metadata": {},
   "outputs": [
    {
     "data": {
      "text/plain": [
       "-1    800\n",
       " 1     37\n",
       "Name: Output, dtype: int64"
      ]
     },
     "execution_count": 213,
     "metadata": {},
     "output_type": "execute_result"
    }
   ],
   "source": [
    "df['Output'].value_counts()"
   ]
  },
  {
   "cell_type": "code",
   "execution_count": 214,
   "id": "552ba6b9",
   "metadata": {},
   "outputs": [],
   "source": [
    "x_df=pd.read_csv('x.csv')"
   ]
  },
  {
   "cell_type": "code",
   "execution_count": 215,
   "id": "263d10b3",
   "metadata": {},
   "outputs": [
    {
     "data": {
      "text/html": [
       "<div>\n",
       "<style scoped>\n",
       "    .dataframe tbody tr th:only-of-type {\n",
       "        vertical-align: middle;\n",
       "    }\n",
       "\n",
       "    .dataframe tbody tr th {\n",
       "        vertical-align: top;\n",
       "    }\n",
       "\n",
       "    .dataframe thead th {\n",
       "        text-align: right;\n",
       "    }\n",
       "</style>\n",
       "<table border=\"1\" class=\"dataframe\">\n",
       "  <thead>\n",
       "    <tr style=\"text-align: right;\">\n",
       "      <th></th>\n",
       "      <th>Unnamed: 0</th>\n",
       "      <th>Sensor - 1</th>\n",
       "      <th>Sensor - 2</th>\n",
       "      <th>Sensor - 3</th>\n",
       "      <th>Sensor - 4</th>\n",
       "      <th>Sensor - 5</th>\n",
       "      <th>Sensor - 7</th>\n",
       "      <th>Sensor - 8</th>\n",
       "      <th>Sensor - 9</th>\n",
       "      <th>Sensor - 10</th>\n",
       "      <th>...</th>\n",
       "      <th>Sensor - 583</th>\n",
       "      <th>Sensor - 584</th>\n",
       "      <th>Sensor - 585</th>\n",
       "      <th>Sensor - 586</th>\n",
       "      <th>Sensor - 587</th>\n",
       "      <th>Sensor - 588</th>\n",
       "      <th>Sensor - 589</th>\n",
       "      <th>Sensor - 590</th>\n",
       "      <th>Clusters</th>\n",
       "      <th>target</th>\n",
       "    </tr>\n",
       "  </thead>\n",
       "  <tbody>\n",
       "    <tr>\n",
       "      <th>0</th>\n",
       "      <td>0</td>\n",
       "      <td>3045.98</td>\n",
       "      <td>2544.85</td>\n",
       "      <td>2253.3444</td>\n",
       "      <td>1873.8678</td>\n",
       "      <td>1.1691</td>\n",
       "      <td>94.9722</td>\n",
       "      <td>0.1210</td>\n",
       "      <td>1.4752</td>\n",
       "      <td>0.0084</td>\n",
       "      <td>...</td>\n",
       "      <td>0.4948</td>\n",
       "      <td>0.0123</td>\n",
       "      <td>0.0033</td>\n",
       "      <td>2.4804</td>\n",
       "      <td>0.0291</td>\n",
       "      <td>0.0102</td>\n",
       "      <td>0.0033</td>\n",
       "      <td>35.0279</td>\n",
       "      <td>0</td>\n",
       "      <td>-1</td>\n",
       "    </tr>\n",
       "    <tr>\n",
       "      <th>1</th>\n",
       "      <td>1</td>\n",
       "      <td>3151.98</td>\n",
       "      <td>2563.75</td>\n",
       "      <td>2175.2556</td>\n",
       "      <td>1022.1660</td>\n",
       "      <td>1.2833</td>\n",
       "      <td>100.6222</td>\n",
       "      <td>0.1250</td>\n",
       "      <td>1.4536</td>\n",
       "      <td>-0.0110</td>\n",
       "      <td>...</td>\n",
       "      <td>0.5063</td>\n",
       "      <td>0.0113</td>\n",
       "      <td>0.0031</td>\n",
       "      <td>2.2284</td>\n",
       "      <td>0.0291</td>\n",
       "      <td>0.0102</td>\n",
       "      <td>0.0033</td>\n",
       "      <td>35.0279</td>\n",
       "      <td>2</td>\n",
       "      <td>-1</td>\n",
       "    </tr>\n",
       "    <tr>\n",
       "      <th>2</th>\n",
       "      <td>2</td>\n",
       "      <td>3071.18</td>\n",
       "      <td>2489.86</td>\n",
       "      <td>2195.3000</td>\n",
       "      <td>1151.8233</td>\n",
       "      <td>0.9220</td>\n",
       "      <td>103.5467</td>\n",
       "      <td>0.1232</td>\n",
       "      <td>1.4826</td>\n",
       "      <td>0.0136</td>\n",
       "      <td>...</td>\n",
       "      <td>0.5033</td>\n",
       "      <td>0.0112</td>\n",
       "      <td>0.0029</td>\n",
       "      <td>2.2320</td>\n",
       "      <td>0.0291</td>\n",
       "      <td>0.0102</td>\n",
       "      <td>0.0033</td>\n",
       "      <td>35.0279</td>\n",
       "      <td>0</td>\n",
       "      <td>-1</td>\n",
       "    </tr>\n",
       "    <tr>\n",
       "      <th>3</th>\n",
       "      <td>3</td>\n",
       "      <td>2958.46</td>\n",
       "      <td>2523.78</td>\n",
       "      <td>2171.8556</td>\n",
       "      <td>1156.6018</td>\n",
       "      <td>1.4025</td>\n",
       "      <td>100.1367</td>\n",
       "      <td>0.1243</td>\n",
       "      <td>1.4645</td>\n",
       "      <td>0.0001</td>\n",
       "      <td>...</td>\n",
       "      <td>0.4954</td>\n",
       "      <td>0.0136</td>\n",
       "      <td>0.0033</td>\n",
       "      <td>2.7511</td>\n",
       "      <td>0.0291</td>\n",
       "      <td>0.0102</td>\n",
       "      <td>0.0033</td>\n",
       "      <td>35.0279</td>\n",
       "      <td>0</td>\n",
       "      <td>-1</td>\n",
       "    </tr>\n",
       "    <tr>\n",
       "      <th>4</th>\n",
       "      <td>4</td>\n",
       "      <td>3196.21</td>\n",
       "      <td>2413.39</td>\n",
       "      <td>2255.5222</td>\n",
       "      <td>1763.0739</td>\n",
       "      <td>1.2226</td>\n",
       "      <td>101.5878</td>\n",
       "      <td>0.1200</td>\n",
       "      <td>1.4845</td>\n",
       "      <td>-0.0037</td>\n",
       "      <td>...</td>\n",
       "      <td>0.5058</td>\n",
       "      <td>0.0094</td>\n",
       "      <td>0.0026</td>\n",
       "      <td>1.8673</td>\n",
       "      <td>0.0053</td>\n",
       "      <td>0.0188</td>\n",
       "      <td>0.0057</td>\n",
       "      <td>353.8319</td>\n",
       "      <td>0</td>\n",
       "      <td>-1</td>\n",
       "    </tr>\n",
       "  </tbody>\n",
       "</table>\n",
       "<p>5 rows × 477 columns</p>\n",
       "</div>"
      ],
      "text/plain": [
       "   Unnamed: 0  Sensor - 1  Sensor - 2  Sensor - 3  Sensor - 4  Sensor - 5  \\\n",
       "0           0     3045.98     2544.85   2253.3444   1873.8678      1.1691   \n",
       "1           1     3151.98     2563.75   2175.2556   1022.1660      1.2833   \n",
       "2           2     3071.18     2489.86   2195.3000   1151.8233      0.9220   \n",
       "3           3     2958.46     2523.78   2171.8556   1156.6018      1.4025   \n",
       "4           4     3196.21     2413.39   2255.5222   1763.0739      1.2226   \n",
       "\n",
       "   Sensor - 7  Sensor - 8  Sensor - 9  Sensor - 10  ...  Sensor - 583  \\\n",
       "0     94.9722      0.1210      1.4752       0.0084  ...        0.4948   \n",
       "1    100.6222      0.1250      1.4536      -0.0110  ...        0.5063   \n",
       "2    103.5467      0.1232      1.4826       0.0136  ...        0.5033   \n",
       "3    100.1367      0.1243      1.4645       0.0001  ...        0.4954   \n",
       "4    101.5878      0.1200      1.4845      -0.0037  ...        0.5058   \n",
       "\n",
       "   Sensor - 584  Sensor - 585  Sensor - 586  Sensor - 587  Sensor - 588  \\\n",
       "0        0.0123        0.0033        2.4804        0.0291        0.0102   \n",
       "1        0.0113        0.0031        2.2284        0.0291        0.0102   \n",
       "2        0.0112        0.0029        2.2320        0.0291        0.0102   \n",
       "3        0.0136        0.0033        2.7511        0.0291        0.0102   \n",
       "4        0.0094        0.0026        1.8673        0.0053        0.0188   \n",
       "\n",
       "   Sensor - 589  Sensor - 590  Clusters  target  \n",
       "0        0.0033       35.0279         0      -1  \n",
       "1        0.0033       35.0279         2      -1  \n",
       "2        0.0033       35.0279         0      -1  \n",
       "3        0.0033       35.0279         0      -1  \n",
       "4        0.0057      353.8319         0      -1  \n",
       "\n",
       "[5 rows x 477 columns]"
      ]
     },
     "execution_count": 215,
     "metadata": {},
     "output_type": "execute_result"
    }
   ],
   "source": [
    "x_df.head()"
   ]
  },
  {
   "cell_type": "code",
   "execution_count": 216,
   "id": "376181ef",
   "metadata": {},
   "outputs": [],
   "source": [
    "x=x_df.drop(['Unnamed: 0','target'],axis=1)"
   ]
  },
  {
   "cell_type": "code",
   "execution_count": 217,
   "id": "79c560a6",
   "metadata": {},
   "outputs": [],
   "source": [
    "y=x_df['target']"
   ]
  },
  {
   "cell_type": "code",
   "execution_count": 218,
   "id": "d8c810fd",
   "metadata": {},
   "outputs": [],
   "source": [
    "x_train,x_test,y_train,y_test=train_test_split(x,y,test_size=1/3,random_state=786)"
   ]
  },
  {
   "cell_type": "code",
   "execution_count": 219,
   "id": "57f1ac79",
   "metadata": {},
   "outputs": [
    {
     "name": "stderr",
     "output_type": "stream",
     "text": [
      "/home/vicky90/anaconda3/envs/wafer_with_mlops/lib/python3.6/site-packages/xgboost/sklearn.py:1146: UserWarning: The use of label encoder in XGBClassifier is deprecated and will be removed in a future release. To remove this warning, do the following: 1) Pass option use_label_encoder=False when constructing XGBClassifier object; and 2) Encode your labels (y) as integers starting with 0, i.e. 0, 1, 2, ..., [num_class - 1].\n",
      "  warnings.warn(label_encoder_deprecation_msg, UserWarning)\n"
     ]
    },
    {
     "name": "stdout",
     "output_type": "stream",
     "text": [
      "[23:19:38] WARNING: ../src/learner.cc:1095: Starting in XGBoost 1.3.0, the default evaluation metric used with the objective 'binary:logistic' was changed from 'error' to 'logloss'. Explicitly set eval_metric if you'd like to restore the old behavior.\n"
     ]
    },
    {
     "name": "stderr",
     "output_type": "stream",
     "text": [
      "/home/vicky90/anaconda3/envs/wafer_with_mlops/lib/python3.6/site-packages/xgboost/data.py:115: UserWarning: Use subset (sliced data) of np.ndarray is not recommended because it will generate extra copies and increase memory consumption\n",
      "  \"memory consumption\")\n"
     ]
    }
   ],
   "source": [
    "xg=xgboost.XGBClassifier()\n",
    "xg.fit(x_train,y_train)\n",
    "xg_pred=xg.predict(x_test)"
   ]
  },
  {
   "cell_type": "code",
   "execution_count": 220,
   "id": "d167ea4e",
   "metadata": {},
   "outputs": [
    {
     "name": "stdout",
     "output_type": "stream",
     "text": [
      "              precision    recall  f1-score   support\n",
      "\n",
      "          -1       0.96      1.00      0.98       269\n",
      "           1       0.00      0.00      0.00        10\n",
      "\n",
      "    accuracy                           0.96       279\n",
      "   macro avg       0.48      0.50      0.49       279\n",
      "weighted avg       0.93      0.96      0.95       279\n",
      "\n"
     ]
    },
    {
     "name": "stderr",
     "output_type": "stream",
     "text": [
      "/home/vicky90/anaconda3/envs/wafer_with_mlops/lib/python3.6/site-packages/sklearn/metrics/_classification.py:1245: UndefinedMetricWarning: Precision and F-score are ill-defined and being set to 0.0 in labels with no predicted samples. Use `zero_division` parameter to control this behavior.\n",
      "  _warn_prf(average, modifier, msg_start, len(result))\n",
      "/home/vicky90/anaconda3/envs/wafer_with_mlops/lib/python3.6/site-packages/sklearn/metrics/_classification.py:1245: UndefinedMetricWarning: Precision and F-score are ill-defined and being set to 0.0 in labels with no predicted samples. Use `zero_division` parameter to control this behavior.\n",
      "  _warn_prf(average, modifier, msg_start, len(result))\n",
      "/home/vicky90/anaconda3/envs/wafer_with_mlops/lib/python3.6/site-packages/sklearn/metrics/_classification.py:1245: UndefinedMetricWarning: Precision and F-score are ill-defined and being set to 0.0 in labels with no predicted samples. Use `zero_division` parameter to control this behavior.\n",
      "  _warn_prf(average, modifier, msg_start, len(result))\n"
     ]
    }
   ],
   "source": [
    "print(classification_report(y_test,xg_pred))"
   ]
  },
  {
   "cell_type": "code",
   "execution_count": 224,
   "id": "e8e5f8bf",
   "metadata": {},
   "outputs": [
    {
     "data": {
      "text/plain": [
       "Counter({-1: 269, 1: 10})"
      ]
     },
     "execution_count": 224,
     "metadata": {},
     "output_type": "execute_result"
    }
   ],
   "source": [
    "Counter(y_test)"
   ]
  },
  {
   "cell_type": "code",
   "execution_count": null,
   "id": "92482586",
   "metadata": {},
   "outputs": [],
   "source": []
  }
 ],
 "metadata": {
  "kernelspec": {
   "display_name": "Python 3",
   "language": "python",
   "name": "python3"
  },
  "language_info": {
   "codemirror_mode": {
    "name": "ipython",
    "version": 3
   },
   "file_extension": ".py",
   "mimetype": "text/x-python",
   "name": "python",
   "nbconvert_exporter": "python",
   "pygments_lexer": "ipython3",
   "version": "3.6.9"
  }
 },
 "nbformat": 4,
 "nbformat_minor": 5
}
